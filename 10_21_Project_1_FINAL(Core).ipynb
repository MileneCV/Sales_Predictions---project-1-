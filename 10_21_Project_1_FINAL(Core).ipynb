{
  "nbformat": 4,
  "nbformat_minor": 0,
  "metadata": {
    "colab": {
      "provenance": [],
      "collapsed_sections": [],
      "toc_visible": true,
      "authorship_tag": "ABX9TyNEG0ioU3j6ScMl8DnYnThJ",
      "include_colab_link": true
    },
    "kernelspec": {
      "name": "python3",
      "display_name": "Python 3"
    },
    "language_info": {
      "name": "python"
    }
  },
  "cells": [
    {
      "cell_type": "markdown",
      "metadata": {
        "id": "view-in-github",
        "colab_type": "text"
      },
      "source": [
        "<a href=\"https://colab.research.google.com/github/MileneCV/sales_predictions/blob/main/10_21_Project_1_FINAL(Core).ipynb\" target=\"_parent\"><img src=\"https://colab.research.google.com/assets/colab-badge.svg\" alt=\"Open In Colab\"/></a>"
      ]
    },
    {
      "cell_type": "markdown",
      "source": [
        "Milene Carmes Vallejo\n",
        "\n",
        "10/13/2022"
      ],
      "metadata": {
        "id": "7hEcLfmxm87N"
      }
    },
    {
      "cell_type": "markdown",
      "source": [
        "# Project 1 - Part 5 "
      ],
      "metadata": {
        "id": "_ijNAly7T7PM"
      }
    },
    {
      "cell_type": "markdown",
      "source": [
        "# Import package"
      ],
      "metadata": {
        "id": "TgwiRIGYaC3H"
      }
    },
    {
      "cell_type": "code",
      "source": [
        "# import\n",
        "import pandas as pd\n",
        "import numpy as np\n",
        "from sklearn.preprocessing import StandardScaler, OneHotEncoder\n",
        "from sklearn.impute import SimpleImputer \n",
        "from sklearn.compose import make_column_transformer, make_column_selector\n",
        "from sklearn.pipeline import make_pipeline\n",
        "from sklearn.model_selection import train_test_split\n",
        "from sklearn.linear_model import LinearRegression\n",
        "from sklearn.tree import DecisionTreeRegressor\n",
        "from sklearn import set_config\n",
        "set_config(display='diagram')\n",
        "from sklearn.metrics import r2_score, mean_squared_error, mean_absolute_error\n",
        "import seaborn as sns\n",
        "set_config(display='diagram')\n",
        "import matplotlib.pyplot as plt\n",
        "from matplotlib import legend\n",
        "from sklearn.ensemble import BaggingRegressor"
      ],
      "metadata": {
        "id": "1eAyNB6naBvD"
      },
      "execution_count": 282,
      "outputs": []
    },
    {
      "cell_type": "markdown",
      "source": [
        "# Load data "
      ],
      "metadata": {
        "id": "aJ62ESvsUBpe"
      }
    },
    {
      "cell_type": "code",
      "source": [
        "from google.colab import drive\n",
        "drive.mount('/content/drive')\n",
        "filename = '/content/drive/My Drive/sales_predictions.csv'\n",
        "df = pd.read_csv(filename)\n",
        "df"
      ],
      "metadata": {
        "colab": {
          "base_uri": "https://localhost:8080/",
          "height": 679
        },
        "id": "E_i3qLKOUEyO",
        "outputId": "29645376-1415-4cd1-aa1b-0df87b937d31"
      },
      "execution_count": 283,
      "outputs": [
        {
          "output_type": "stream",
          "name": "stdout",
          "text": [
            "Drive already mounted at /content/drive; to attempt to forcibly remount, call drive.mount(\"/content/drive\", force_remount=True).\n"
          ]
        },
        {
          "output_type": "execute_result",
          "data": {
            "text/plain": [
              "     Item_Identifier  Item_Weight Item_Fat_Content  Item_Visibility  \\\n",
              "0              FDA15        9.300          Low Fat         0.016047   \n",
              "1              DRC01        5.920          Regular         0.019278   \n",
              "2              FDN15       17.500          Low Fat         0.016760   \n",
              "3              FDX07       19.200          Regular         0.000000   \n",
              "4              NCD19        8.930          Low Fat         0.000000   \n",
              "...              ...          ...              ...              ...   \n",
              "8518           FDF22        6.865          Low Fat         0.056783   \n",
              "8519           FDS36        8.380          Regular         0.046982   \n",
              "8520           NCJ29       10.600          Low Fat         0.035186   \n",
              "8521           FDN46        7.210          Regular         0.145221   \n",
              "8522           DRG01       14.800          Low Fat         0.044878   \n",
              "\n",
              "                  Item_Type  Item_MRP Outlet_Identifier  \\\n",
              "0                     Dairy  249.8092            OUT049   \n",
              "1               Soft Drinks   48.2692            OUT018   \n",
              "2                      Meat  141.6180            OUT049   \n",
              "3     Fruits and Vegetables  182.0950            OUT010   \n",
              "4                 Household   53.8614            OUT013   \n",
              "...                     ...       ...               ...   \n",
              "8518            Snack Foods  214.5218            OUT013   \n",
              "8519           Baking Goods  108.1570            OUT045   \n",
              "8520     Health and Hygiene   85.1224            OUT035   \n",
              "8521            Snack Foods  103.1332            OUT018   \n",
              "8522            Soft Drinks   75.4670            OUT046   \n",
              "\n",
              "      Outlet_Establishment_Year Outlet_Size Outlet_Location_Type  \\\n",
              "0                          1999      Medium               Tier 1   \n",
              "1                          2009      Medium               Tier 3   \n",
              "2                          1999      Medium               Tier 1   \n",
              "3                          1998         NaN               Tier 3   \n",
              "4                          1987        High               Tier 3   \n",
              "...                         ...         ...                  ...   \n",
              "8518                       1987        High               Tier 3   \n",
              "8519                       2002         NaN               Tier 2   \n",
              "8520                       2004       Small               Tier 2   \n",
              "8521                       2009      Medium               Tier 3   \n",
              "8522                       1997       Small               Tier 1   \n",
              "\n",
              "            Outlet_Type  Item_Outlet_Sales  \n",
              "0     Supermarket Type1          3735.1380  \n",
              "1     Supermarket Type2           443.4228  \n",
              "2     Supermarket Type1          2097.2700  \n",
              "3         Grocery Store           732.3800  \n",
              "4     Supermarket Type1           994.7052  \n",
              "...                 ...                ...  \n",
              "8518  Supermarket Type1          2778.3834  \n",
              "8519  Supermarket Type1           549.2850  \n",
              "8520  Supermarket Type1          1193.1136  \n",
              "8521  Supermarket Type2          1845.5976  \n",
              "8522  Supermarket Type1           765.6700  \n",
              "\n",
              "[8523 rows x 12 columns]"
            ],
            "text/html": [
              "\n",
              "  <div id=\"df-fbeb20f2-4f52-4894-ab7a-44e1fe05b933\">\n",
              "    <div class=\"colab-df-container\">\n",
              "      <div>\n",
              "<style scoped>\n",
              "    .dataframe tbody tr th:only-of-type {\n",
              "        vertical-align: middle;\n",
              "    }\n",
              "\n",
              "    .dataframe tbody tr th {\n",
              "        vertical-align: top;\n",
              "    }\n",
              "\n",
              "    .dataframe thead th {\n",
              "        text-align: right;\n",
              "    }\n",
              "</style>\n",
              "<table border=\"1\" class=\"dataframe\">\n",
              "  <thead>\n",
              "    <tr style=\"text-align: right;\">\n",
              "      <th></th>\n",
              "      <th>Item_Identifier</th>\n",
              "      <th>Item_Weight</th>\n",
              "      <th>Item_Fat_Content</th>\n",
              "      <th>Item_Visibility</th>\n",
              "      <th>Item_Type</th>\n",
              "      <th>Item_MRP</th>\n",
              "      <th>Outlet_Identifier</th>\n",
              "      <th>Outlet_Establishment_Year</th>\n",
              "      <th>Outlet_Size</th>\n",
              "      <th>Outlet_Location_Type</th>\n",
              "      <th>Outlet_Type</th>\n",
              "      <th>Item_Outlet_Sales</th>\n",
              "    </tr>\n",
              "  </thead>\n",
              "  <tbody>\n",
              "    <tr>\n",
              "      <th>0</th>\n",
              "      <td>FDA15</td>\n",
              "      <td>9.300</td>\n",
              "      <td>Low Fat</td>\n",
              "      <td>0.016047</td>\n",
              "      <td>Dairy</td>\n",
              "      <td>249.8092</td>\n",
              "      <td>OUT049</td>\n",
              "      <td>1999</td>\n",
              "      <td>Medium</td>\n",
              "      <td>Tier 1</td>\n",
              "      <td>Supermarket Type1</td>\n",
              "      <td>3735.1380</td>\n",
              "    </tr>\n",
              "    <tr>\n",
              "      <th>1</th>\n",
              "      <td>DRC01</td>\n",
              "      <td>5.920</td>\n",
              "      <td>Regular</td>\n",
              "      <td>0.019278</td>\n",
              "      <td>Soft Drinks</td>\n",
              "      <td>48.2692</td>\n",
              "      <td>OUT018</td>\n",
              "      <td>2009</td>\n",
              "      <td>Medium</td>\n",
              "      <td>Tier 3</td>\n",
              "      <td>Supermarket Type2</td>\n",
              "      <td>443.4228</td>\n",
              "    </tr>\n",
              "    <tr>\n",
              "      <th>2</th>\n",
              "      <td>FDN15</td>\n",
              "      <td>17.500</td>\n",
              "      <td>Low Fat</td>\n",
              "      <td>0.016760</td>\n",
              "      <td>Meat</td>\n",
              "      <td>141.6180</td>\n",
              "      <td>OUT049</td>\n",
              "      <td>1999</td>\n",
              "      <td>Medium</td>\n",
              "      <td>Tier 1</td>\n",
              "      <td>Supermarket Type1</td>\n",
              "      <td>2097.2700</td>\n",
              "    </tr>\n",
              "    <tr>\n",
              "      <th>3</th>\n",
              "      <td>FDX07</td>\n",
              "      <td>19.200</td>\n",
              "      <td>Regular</td>\n",
              "      <td>0.000000</td>\n",
              "      <td>Fruits and Vegetables</td>\n",
              "      <td>182.0950</td>\n",
              "      <td>OUT010</td>\n",
              "      <td>1998</td>\n",
              "      <td>NaN</td>\n",
              "      <td>Tier 3</td>\n",
              "      <td>Grocery Store</td>\n",
              "      <td>732.3800</td>\n",
              "    </tr>\n",
              "    <tr>\n",
              "      <th>4</th>\n",
              "      <td>NCD19</td>\n",
              "      <td>8.930</td>\n",
              "      <td>Low Fat</td>\n",
              "      <td>0.000000</td>\n",
              "      <td>Household</td>\n",
              "      <td>53.8614</td>\n",
              "      <td>OUT013</td>\n",
              "      <td>1987</td>\n",
              "      <td>High</td>\n",
              "      <td>Tier 3</td>\n",
              "      <td>Supermarket Type1</td>\n",
              "      <td>994.7052</td>\n",
              "    </tr>\n",
              "    <tr>\n",
              "      <th>...</th>\n",
              "      <td>...</td>\n",
              "      <td>...</td>\n",
              "      <td>...</td>\n",
              "      <td>...</td>\n",
              "      <td>...</td>\n",
              "      <td>...</td>\n",
              "      <td>...</td>\n",
              "      <td>...</td>\n",
              "      <td>...</td>\n",
              "      <td>...</td>\n",
              "      <td>...</td>\n",
              "      <td>...</td>\n",
              "    </tr>\n",
              "    <tr>\n",
              "      <th>8518</th>\n",
              "      <td>FDF22</td>\n",
              "      <td>6.865</td>\n",
              "      <td>Low Fat</td>\n",
              "      <td>0.056783</td>\n",
              "      <td>Snack Foods</td>\n",
              "      <td>214.5218</td>\n",
              "      <td>OUT013</td>\n",
              "      <td>1987</td>\n",
              "      <td>High</td>\n",
              "      <td>Tier 3</td>\n",
              "      <td>Supermarket Type1</td>\n",
              "      <td>2778.3834</td>\n",
              "    </tr>\n",
              "    <tr>\n",
              "      <th>8519</th>\n",
              "      <td>FDS36</td>\n",
              "      <td>8.380</td>\n",
              "      <td>Regular</td>\n",
              "      <td>0.046982</td>\n",
              "      <td>Baking Goods</td>\n",
              "      <td>108.1570</td>\n",
              "      <td>OUT045</td>\n",
              "      <td>2002</td>\n",
              "      <td>NaN</td>\n",
              "      <td>Tier 2</td>\n",
              "      <td>Supermarket Type1</td>\n",
              "      <td>549.2850</td>\n",
              "    </tr>\n",
              "    <tr>\n",
              "      <th>8520</th>\n",
              "      <td>NCJ29</td>\n",
              "      <td>10.600</td>\n",
              "      <td>Low Fat</td>\n",
              "      <td>0.035186</td>\n",
              "      <td>Health and Hygiene</td>\n",
              "      <td>85.1224</td>\n",
              "      <td>OUT035</td>\n",
              "      <td>2004</td>\n",
              "      <td>Small</td>\n",
              "      <td>Tier 2</td>\n",
              "      <td>Supermarket Type1</td>\n",
              "      <td>1193.1136</td>\n",
              "    </tr>\n",
              "    <tr>\n",
              "      <th>8521</th>\n",
              "      <td>FDN46</td>\n",
              "      <td>7.210</td>\n",
              "      <td>Regular</td>\n",
              "      <td>0.145221</td>\n",
              "      <td>Snack Foods</td>\n",
              "      <td>103.1332</td>\n",
              "      <td>OUT018</td>\n",
              "      <td>2009</td>\n",
              "      <td>Medium</td>\n",
              "      <td>Tier 3</td>\n",
              "      <td>Supermarket Type2</td>\n",
              "      <td>1845.5976</td>\n",
              "    </tr>\n",
              "    <tr>\n",
              "      <th>8522</th>\n",
              "      <td>DRG01</td>\n",
              "      <td>14.800</td>\n",
              "      <td>Low Fat</td>\n",
              "      <td>0.044878</td>\n",
              "      <td>Soft Drinks</td>\n",
              "      <td>75.4670</td>\n",
              "      <td>OUT046</td>\n",
              "      <td>1997</td>\n",
              "      <td>Small</td>\n",
              "      <td>Tier 1</td>\n",
              "      <td>Supermarket Type1</td>\n",
              "      <td>765.6700</td>\n",
              "    </tr>\n",
              "  </tbody>\n",
              "</table>\n",
              "<p>8523 rows × 12 columns</p>\n",
              "</div>\n",
              "      <button class=\"colab-df-convert\" onclick=\"convertToInteractive('df-fbeb20f2-4f52-4894-ab7a-44e1fe05b933')\"\n",
              "              title=\"Convert this dataframe to an interactive table.\"\n",
              "              style=\"display:none;\">\n",
              "        \n",
              "  <svg xmlns=\"http://www.w3.org/2000/svg\" height=\"24px\"viewBox=\"0 0 24 24\"\n",
              "       width=\"24px\">\n",
              "    <path d=\"M0 0h24v24H0V0z\" fill=\"none\"/>\n",
              "    <path d=\"M18.56 5.44l.94 2.06.94-2.06 2.06-.94-2.06-.94-.94-2.06-.94 2.06-2.06.94zm-11 1L8.5 8.5l.94-2.06 2.06-.94-2.06-.94L8.5 2.5l-.94 2.06-2.06.94zm10 10l.94 2.06.94-2.06 2.06-.94-2.06-.94-.94-2.06-.94 2.06-2.06.94z\"/><path d=\"M17.41 7.96l-1.37-1.37c-.4-.4-.92-.59-1.43-.59-.52 0-1.04.2-1.43.59L10.3 9.45l-7.72 7.72c-.78.78-.78 2.05 0 2.83L4 21.41c.39.39.9.59 1.41.59.51 0 1.02-.2 1.41-.59l7.78-7.78 2.81-2.81c.8-.78.8-2.07 0-2.86zM5.41 20L4 18.59l7.72-7.72 1.47 1.35L5.41 20z\"/>\n",
              "  </svg>\n",
              "      </button>\n",
              "      \n",
              "  <style>\n",
              "    .colab-df-container {\n",
              "      display:flex;\n",
              "      flex-wrap:wrap;\n",
              "      gap: 12px;\n",
              "    }\n",
              "\n",
              "    .colab-df-convert {\n",
              "      background-color: #E8F0FE;\n",
              "      border: none;\n",
              "      border-radius: 50%;\n",
              "      cursor: pointer;\n",
              "      display: none;\n",
              "      fill: #1967D2;\n",
              "      height: 32px;\n",
              "      padding: 0 0 0 0;\n",
              "      width: 32px;\n",
              "    }\n",
              "\n",
              "    .colab-df-convert:hover {\n",
              "      background-color: #E2EBFA;\n",
              "      box-shadow: 0px 1px 2px rgba(60, 64, 67, 0.3), 0px 1px 3px 1px rgba(60, 64, 67, 0.15);\n",
              "      fill: #174EA6;\n",
              "    }\n",
              "\n",
              "    [theme=dark] .colab-df-convert {\n",
              "      background-color: #3B4455;\n",
              "      fill: #D2E3FC;\n",
              "    }\n",
              "\n",
              "    [theme=dark] .colab-df-convert:hover {\n",
              "      background-color: #434B5C;\n",
              "      box-shadow: 0px 1px 3px 1px rgba(0, 0, 0, 0.15);\n",
              "      filter: drop-shadow(0px 1px 2px rgba(0, 0, 0, 0.3));\n",
              "      fill: #FFFFFF;\n",
              "    }\n",
              "  </style>\n",
              "\n",
              "      <script>\n",
              "        const buttonEl =\n",
              "          document.querySelector('#df-fbeb20f2-4f52-4894-ab7a-44e1fe05b933 button.colab-df-convert');\n",
              "        buttonEl.style.display =\n",
              "          google.colab.kernel.accessAllowed ? 'block' : 'none';\n",
              "\n",
              "        async function convertToInteractive(key) {\n",
              "          const element = document.querySelector('#df-fbeb20f2-4f52-4894-ab7a-44e1fe05b933');\n",
              "          const dataTable =\n",
              "            await google.colab.kernel.invokeFunction('convertToInteractive',\n",
              "                                                     [key], {});\n",
              "          if (!dataTable) return;\n",
              "\n",
              "          const docLinkHtml = 'Like what you see? Visit the ' +\n",
              "            '<a target=\"_blank\" href=https://colab.research.google.com/notebooks/data_table.ipynb>data table notebook</a>'\n",
              "            + ' to learn more about interactive tables.';\n",
              "          element.innerHTML = '';\n",
              "          dataTable['output_type'] = 'display_data';\n",
              "          await google.colab.output.renderOutput(dataTable, element);\n",
              "          const docLink = document.createElement('div');\n",
              "          docLink.innerHTML = docLinkHtml;\n",
              "          element.appendChild(docLink);\n",
              "        }\n",
              "      </script>\n",
              "    </div>\n",
              "  </div>\n",
              "  "
            ]
          },
          "metadata": {},
          "execution_count": 283
        }
      ]
    },
    {
      "cell_type": "markdown",
      "source": [
        "# Explore data "
      ],
      "metadata": {
        "id": "4ehar4DoVgRW"
      }
    },
    {
      "cell_type": "code",
      "source": [
        "df_sales = df"
      ],
      "metadata": {
        "id": "uD9I0cp9VnKs"
      },
      "execution_count": 284,
      "outputs": []
    },
    {
      "cell_type": "code",
      "source": [
        "df_sales.info()"
      ],
      "metadata": {
        "colab": {
          "base_uri": "https://localhost:8080/"
        },
        "id": "K-6VuDozVF6X",
        "outputId": "d71d8ebc-51f4-44ec-b218-15861e8549c9"
      },
      "execution_count": 285,
      "outputs": [
        {
          "output_type": "stream",
          "name": "stdout",
          "text": [
            "<class 'pandas.core.frame.DataFrame'>\n",
            "RangeIndex: 8523 entries, 0 to 8522\n",
            "Data columns (total 12 columns):\n",
            " #   Column                     Non-Null Count  Dtype  \n",
            "---  ------                     --------------  -----  \n",
            " 0   Item_Identifier            8523 non-null   object \n",
            " 1   Item_Weight                7060 non-null   float64\n",
            " 2   Item_Fat_Content           8523 non-null   object \n",
            " 3   Item_Visibility            8523 non-null   float64\n",
            " 4   Item_Type                  8523 non-null   object \n",
            " 5   Item_MRP                   8523 non-null   float64\n",
            " 6   Outlet_Identifier          8523 non-null   object \n",
            " 7   Outlet_Establishment_Year  8523 non-null   int64  \n",
            " 8   Outlet_Size                6113 non-null   object \n",
            " 9   Outlet_Location_Type       8523 non-null   object \n",
            " 10  Outlet_Type                8523 non-null   object \n",
            " 11  Item_Outlet_Sales          8523 non-null   float64\n",
            "dtypes: float64(4), int64(1), object(7)\n",
            "memory usage: 799.2+ KB\n"
          ]
        }
      ]
    },
    {
      "cell_type": "code",
      "source": [
        "# check duplicates \n",
        "df_sales.duplicated().sum()"
      ],
      "metadata": {
        "colab": {
          "base_uri": "https://localhost:8080/"
        },
        "id": "KmKzhfhIWX_L",
        "outputId": "e261df3a-7eea-4543-8da4-16f48a178dda"
      },
      "execution_count": 286,
      "outputs": [
        {
          "output_type": "execute_result",
          "data": {
            "text/plain": [
              "0"
            ]
          },
          "metadata": {},
          "execution_count": 286
        }
      ]
    },
    {
      "cell_type": "code",
      "source": [
        "# fix inconsistencies in 'Item_Fat_Content' column\n",
        "dict_names = {'LF':'Low Fat', 'low fat': 'Low Fat', 'reg':'Regular'}\n",
        "df_sales['Item_Fat_Content']. replace(dict_names, inplace = True)\n",
        "df_sales['Item_Fat_Content'].value_counts()\n"
      ],
      "metadata": {
        "colab": {
          "base_uri": "https://localhost:8080/"
        },
        "id": "Vsr6Z7eCW2yw",
        "outputId": "0364107a-bdfc-4fff-d263-6b20bbfcd073"
      },
      "execution_count": 287,
      "outputs": [
        {
          "output_type": "execute_result",
          "data": {
            "text/plain": [
              "Low Fat    5517\n",
              "Regular    3006\n",
              "Name: Item_Fat_Content, dtype: int64"
            ]
          },
          "metadata": {},
          "execution_count": 287
        }
      ]
    },
    {
      "cell_type": "markdown",
      "source": [
        "# Train/Test split \n",
        "\n",
        " \"Item_Outlet_Sales\" column as target\n"
      ],
      "metadata": {
        "id": "9Z6URLSwY0jz"
      }
    },
    {
      "cell_type": "code",
      "execution_count": 288,
      "metadata": {
        "colab": {
          "base_uri": "https://localhost:8080/"
        },
        "id": "Ii2wzfCeS-Q4",
        "outputId": "1436799c-2a29-4bcc-8dd2-892ef526651a"
      },
      "outputs": [
        {
          "output_type": "stream",
          "name": "stdout",
          "text": [
            "size of X_train(75% of df_sales)\n",
            "6392\n"
          ]
        }
      ],
      "source": [
        "\n",
        "# matrix  - drop columns Outlet_Identifier, Outlet_Establishment_Year (these features will not make any contribution in model building)\n",
        "X = df_sales.drop(columns=['Item_Outlet_Sales', 'Outlet_Identifier', 'Outlet_Establishment_Year', 'Item_Identifier'])\n",
        "\n",
        "# target\n",
        "y = df_sales['Item_Outlet_Sales']\n",
        "\n",
        "# Perform a train test split\n",
        "X_train, X_test, y_train, y_test = train_test_split(X, y, random_state=42)\n",
        "\n",
        "print('size of X_train(75% of df_sales)')\n",
        "print(len(X_train))\n",
        "\n",
        "\n"
      ]
    },
    {
      "cell_type": "markdown",
      "source": [
        "# Selector columns "
      ],
      "metadata": {
        "id": "7Zr3KpQZcBe7"
      }
    },
    {
      "cell_type": "code",
      "source": [
        "# make selector columns:\n",
        "# numerical columns\n",
        "num_selector = make_column_selector(dtype_include = 'number')\n",
        "\n",
        "# categorical columns\n",
        "cat_selector = make_column_selector(dtype_include = 'object')"
      ],
      "metadata": {
        "id": "_UtPYkZBb_5O"
      },
      "execution_count": 289,
      "outputs": []
    },
    {
      "cell_type": "code",
      "source": [
        "# check missing values \n",
        "df_sales.isna().sum() "
      ],
      "metadata": {
        "colab": {
          "base_uri": "https://localhost:8080/"
        },
        "id": "jLIYT26FbvJH",
        "outputId": "2d2e176b-caf8-4bde-fba4-196e2fd0af1b"
      },
      "execution_count": 290,
      "outputs": [
        {
          "output_type": "execute_result",
          "data": {
            "text/plain": [
              "Item_Identifier                 0\n",
              "Item_Weight                  1463\n",
              "Item_Fat_Content                0\n",
              "Item_Visibility                 0\n",
              "Item_Type                       0\n",
              "Item_MRP                        0\n",
              "Outlet_Identifier               0\n",
              "Outlet_Establishment_Year       0\n",
              "Outlet_Size                  2410\n",
              "Outlet_Location_Type            0\n",
              "Outlet_Type                     0\n",
              "Item_Outlet_Sales               0\n",
              "dtype: int64"
            ]
          },
          "metadata": {},
          "execution_count": 290
        }
      ]
    },
    {
      "cell_type": "markdown",
      "source": [
        "# Impute any missing values.\n",
        "There are missing values in numeric column Item_Weight that is float and categorical column Outlet_Size \n",
        "\n",
        "Use the ‘mean’ strategy for numeric columns (that is a float number) and the ‘most_frequent’ strategy for categorical columns.\n"
      ],
      "metadata": {
        "id": "XrJLslCjf0Yk"
      }
    },
    {
      "cell_type": "markdown",
      "source": [
        "## One HotEncoder and Scaler"
      ],
      "metadata": {
        "id": "dKXzA2i5gLl-"
      }
    },
    {
      "cell_type": "code",
      "source": [
        "# instantiate an imputer and ohe for categorical columns\n",
        "freq_imputer = SimpleImputer(strategy='most_frequent')\n",
        "ohe = OneHotEncoder(handle_unknown = 'ignore', sparse = False)\n",
        "\n",
        "# instantiate an imputer and scaler for numeric columns\n",
        "mean_imputer = SimpleImputer(strategy = 'mean')\n",
        "scaler = StandardScaler()"
      ],
      "metadata": {
        "id": "4ykUM37ff-UV"
      },
      "execution_count": 291,
      "outputs": []
    },
    {
      "cell_type": "code",
      "source": [
        "# numeric pipeline \n",
        "numeric_pipe = make_pipeline(mean_imputer, scaler)\n",
        "numeric_pipe"
      ],
      "metadata": {
        "colab": {
          "base_uri": "https://localhost:8080/",
          "height": 126
        },
        "id": "AuWn60l9gPZg",
        "outputId": "979a7f37-fd10-4fc7-f02d-c1f74ce955cd"
      },
      "execution_count": 292,
      "outputs": [
        {
          "output_type": "execute_result",
          "data": {
            "text/plain": [
              "Pipeline(steps=[('simpleimputer', SimpleImputer()),\n",
              "                ('standardscaler', StandardScaler())])"
            ],
            "text/html": [
              "<style>#sk-2b2e1b09-0e25-410e-8b75-5c9ecdc6b4f0 {color: black;background-color: white;}#sk-2b2e1b09-0e25-410e-8b75-5c9ecdc6b4f0 pre{padding: 0;}#sk-2b2e1b09-0e25-410e-8b75-5c9ecdc6b4f0 div.sk-toggleable {background-color: white;}#sk-2b2e1b09-0e25-410e-8b75-5c9ecdc6b4f0 label.sk-toggleable__label {cursor: pointer;display: block;width: 100%;margin-bottom: 0;padding: 0.3em;box-sizing: border-box;text-align: center;}#sk-2b2e1b09-0e25-410e-8b75-5c9ecdc6b4f0 label.sk-toggleable__label-arrow:before {content: \"▸\";float: left;margin-right: 0.25em;color: #696969;}#sk-2b2e1b09-0e25-410e-8b75-5c9ecdc6b4f0 label.sk-toggleable__label-arrow:hover:before {color: black;}#sk-2b2e1b09-0e25-410e-8b75-5c9ecdc6b4f0 div.sk-estimator:hover label.sk-toggleable__label-arrow:before {color: black;}#sk-2b2e1b09-0e25-410e-8b75-5c9ecdc6b4f0 div.sk-toggleable__content {max-height: 0;max-width: 0;overflow: hidden;text-align: left;background-color: #f0f8ff;}#sk-2b2e1b09-0e25-410e-8b75-5c9ecdc6b4f0 div.sk-toggleable__content pre {margin: 0.2em;color: black;border-radius: 0.25em;background-color: #f0f8ff;}#sk-2b2e1b09-0e25-410e-8b75-5c9ecdc6b4f0 input.sk-toggleable__control:checked~div.sk-toggleable__content {max-height: 200px;max-width: 100%;overflow: auto;}#sk-2b2e1b09-0e25-410e-8b75-5c9ecdc6b4f0 input.sk-toggleable__control:checked~label.sk-toggleable__label-arrow:before {content: \"▾\";}#sk-2b2e1b09-0e25-410e-8b75-5c9ecdc6b4f0 div.sk-estimator input.sk-toggleable__control:checked~label.sk-toggleable__label {background-color: #d4ebff;}#sk-2b2e1b09-0e25-410e-8b75-5c9ecdc6b4f0 div.sk-label input.sk-toggleable__control:checked~label.sk-toggleable__label {background-color: #d4ebff;}#sk-2b2e1b09-0e25-410e-8b75-5c9ecdc6b4f0 input.sk-hidden--visually {border: 0;clip: rect(1px 1px 1px 1px);clip: rect(1px, 1px, 1px, 1px);height: 1px;margin: -1px;overflow: hidden;padding: 0;position: absolute;width: 1px;}#sk-2b2e1b09-0e25-410e-8b75-5c9ecdc6b4f0 div.sk-estimator {font-family: monospace;background-color: #f0f8ff;border: 1px dotted black;border-radius: 0.25em;box-sizing: border-box;margin-bottom: 0.5em;}#sk-2b2e1b09-0e25-410e-8b75-5c9ecdc6b4f0 div.sk-estimator:hover {background-color: #d4ebff;}#sk-2b2e1b09-0e25-410e-8b75-5c9ecdc6b4f0 div.sk-parallel-item::after {content: \"\";width: 100%;border-bottom: 1px solid gray;flex-grow: 1;}#sk-2b2e1b09-0e25-410e-8b75-5c9ecdc6b4f0 div.sk-label:hover label.sk-toggleable__label {background-color: #d4ebff;}#sk-2b2e1b09-0e25-410e-8b75-5c9ecdc6b4f0 div.sk-serial::before {content: \"\";position: absolute;border-left: 1px solid gray;box-sizing: border-box;top: 2em;bottom: 0;left: 50%;}#sk-2b2e1b09-0e25-410e-8b75-5c9ecdc6b4f0 div.sk-serial {display: flex;flex-direction: column;align-items: center;background-color: white;padding-right: 0.2em;padding-left: 0.2em;}#sk-2b2e1b09-0e25-410e-8b75-5c9ecdc6b4f0 div.sk-item {z-index: 1;}#sk-2b2e1b09-0e25-410e-8b75-5c9ecdc6b4f0 div.sk-parallel {display: flex;align-items: stretch;justify-content: center;background-color: white;}#sk-2b2e1b09-0e25-410e-8b75-5c9ecdc6b4f0 div.sk-parallel::before {content: \"\";position: absolute;border-left: 1px solid gray;box-sizing: border-box;top: 2em;bottom: 0;left: 50%;}#sk-2b2e1b09-0e25-410e-8b75-5c9ecdc6b4f0 div.sk-parallel-item {display: flex;flex-direction: column;position: relative;background-color: white;}#sk-2b2e1b09-0e25-410e-8b75-5c9ecdc6b4f0 div.sk-parallel-item:first-child::after {align-self: flex-end;width: 50%;}#sk-2b2e1b09-0e25-410e-8b75-5c9ecdc6b4f0 div.sk-parallel-item:last-child::after {align-self: flex-start;width: 50%;}#sk-2b2e1b09-0e25-410e-8b75-5c9ecdc6b4f0 div.sk-parallel-item:only-child::after {width: 0;}#sk-2b2e1b09-0e25-410e-8b75-5c9ecdc6b4f0 div.sk-dashed-wrapped {border: 1px dashed gray;margin: 0 0.4em 0.5em 0.4em;box-sizing: border-box;padding-bottom: 0.4em;background-color: white;position: relative;}#sk-2b2e1b09-0e25-410e-8b75-5c9ecdc6b4f0 div.sk-label label {font-family: monospace;font-weight: bold;background-color: white;display: inline-block;line-height: 1.2em;}#sk-2b2e1b09-0e25-410e-8b75-5c9ecdc6b4f0 div.sk-label-container {position: relative;z-index: 2;text-align: center;}#sk-2b2e1b09-0e25-410e-8b75-5c9ecdc6b4f0 div.sk-container {/* jupyter's `normalize.less` sets `[hidden] { display: none; }` but bootstrap.min.css set `[hidden] { display: none !important; }` so we also need the `!important` here to be able to override the default hidden behavior on the sphinx rendered scikit-learn.org. See: https://github.com/scikit-learn/scikit-learn/issues/21755 */display: inline-block !important;position: relative;}#sk-2b2e1b09-0e25-410e-8b75-5c9ecdc6b4f0 div.sk-text-repr-fallback {display: none;}</style><div id=\"sk-2b2e1b09-0e25-410e-8b75-5c9ecdc6b4f0\" class=\"sk-top-container\"><div class=\"sk-text-repr-fallback\"><pre>Pipeline(steps=[(&#x27;simpleimputer&#x27;, SimpleImputer()),\n",
              "                (&#x27;standardscaler&#x27;, StandardScaler())])</pre><b>Please rerun this cell to show the HTML repr or trust the notebook.</b></div><div class=\"sk-container\" hidden><div class=\"sk-item sk-dashed-wrapped\"><div class=\"sk-label-container\"><div class=\"sk-label sk-toggleable\"><input class=\"sk-toggleable__control sk-hidden--visually\" id=\"d6c4abf4-11ad-44a1-b633-bbd97a46719a\" type=\"checkbox\" ><label for=\"d6c4abf4-11ad-44a1-b633-bbd97a46719a\" class=\"sk-toggleable__label sk-toggleable__label-arrow\">Pipeline</label><div class=\"sk-toggleable__content\"><pre>Pipeline(steps=[(&#x27;simpleimputer&#x27;, SimpleImputer()),\n",
              "                (&#x27;standardscaler&#x27;, StandardScaler())])</pre></div></div></div><div class=\"sk-serial\"><div class=\"sk-item\"><div class=\"sk-estimator sk-toggleable\"><input class=\"sk-toggleable__control sk-hidden--visually\" id=\"d4ad5974-2a1d-466b-8dd5-f482a9191e3f\" type=\"checkbox\" ><label for=\"d4ad5974-2a1d-466b-8dd5-f482a9191e3f\" class=\"sk-toggleable__label sk-toggleable__label-arrow\">SimpleImputer</label><div class=\"sk-toggleable__content\"><pre>SimpleImputer()</pre></div></div></div><div class=\"sk-item\"><div class=\"sk-estimator sk-toggleable\"><input class=\"sk-toggleable__control sk-hidden--visually\" id=\"83b88f89-5323-4cb0-bf79-365484ee6aa8\" type=\"checkbox\" ><label for=\"83b88f89-5323-4cb0-bf79-365484ee6aa8\" class=\"sk-toggleable__label sk-toggleable__label-arrow\">StandardScaler</label><div class=\"sk-toggleable__content\"><pre>StandardScaler()</pre></div></div></div></div></div></div></div>"
            ]
          },
          "metadata": {},
          "execution_count": 292
        }
      ]
    },
    {
      "cell_type": "code",
      "source": [
        "# categorical pipeline \n",
        "categorical_pipe = make_pipeline(freq_imputer, ohe)\n",
        "categorical_pipe\n"
      ],
      "metadata": {
        "colab": {
          "base_uri": "https://localhost:8080/",
          "height": 126
        },
        "id": "7PeCPB8yiDRl",
        "outputId": "8e6984a2-0f0e-43f7-f00c-f9b24b9075a6"
      },
      "execution_count": 293,
      "outputs": [
        {
          "output_type": "execute_result",
          "data": {
            "text/plain": [
              "Pipeline(steps=[('simpleimputer', SimpleImputer(strategy='most_frequent')),\n",
              "                ('onehotencoder',\n",
              "                 OneHotEncoder(handle_unknown='ignore', sparse=False))])"
            ],
            "text/html": [
              "<style>#sk-6f676cc3-3a67-47cf-b33d-bdba7c76727e {color: black;background-color: white;}#sk-6f676cc3-3a67-47cf-b33d-bdba7c76727e pre{padding: 0;}#sk-6f676cc3-3a67-47cf-b33d-bdba7c76727e div.sk-toggleable {background-color: white;}#sk-6f676cc3-3a67-47cf-b33d-bdba7c76727e label.sk-toggleable__label {cursor: pointer;display: block;width: 100%;margin-bottom: 0;padding: 0.3em;box-sizing: border-box;text-align: center;}#sk-6f676cc3-3a67-47cf-b33d-bdba7c76727e label.sk-toggleable__label-arrow:before {content: \"▸\";float: left;margin-right: 0.25em;color: #696969;}#sk-6f676cc3-3a67-47cf-b33d-bdba7c76727e label.sk-toggleable__label-arrow:hover:before {color: black;}#sk-6f676cc3-3a67-47cf-b33d-bdba7c76727e div.sk-estimator:hover label.sk-toggleable__label-arrow:before {color: black;}#sk-6f676cc3-3a67-47cf-b33d-bdba7c76727e div.sk-toggleable__content {max-height: 0;max-width: 0;overflow: hidden;text-align: left;background-color: #f0f8ff;}#sk-6f676cc3-3a67-47cf-b33d-bdba7c76727e div.sk-toggleable__content pre {margin: 0.2em;color: black;border-radius: 0.25em;background-color: #f0f8ff;}#sk-6f676cc3-3a67-47cf-b33d-bdba7c76727e input.sk-toggleable__control:checked~div.sk-toggleable__content {max-height: 200px;max-width: 100%;overflow: auto;}#sk-6f676cc3-3a67-47cf-b33d-bdba7c76727e input.sk-toggleable__control:checked~label.sk-toggleable__label-arrow:before {content: \"▾\";}#sk-6f676cc3-3a67-47cf-b33d-bdba7c76727e div.sk-estimator input.sk-toggleable__control:checked~label.sk-toggleable__label {background-color: #d4ebff;}#sk-6f676cc3-3a67-47cf-b33d-bdba7c76727e div.sk-label input.sk-toggleable__control:checked~label.sk-toggleable__label {background-color: #d4ebff;}#sk-6f676cc3-3a67-47cf-b33d-bdba7c76727e input.sk-hidden--visually {border: 0;clip: rect(1px 1px 1px 1px);clip: rect(1px, 1px, 1px, 1px);height: 1px;margin: -1px;overflow: hidden;padding: 0;position: absolute;width: 1px;}#sk-6f676cc3-3a67-47cf-b33d-bdba7c76727e div.sk-estimator {font-family: monospace;background-color: #f0f8ff;border: 1px dotted black;border-radius: 0.25em;box-sizing: border-box;margin-bottom: 0.5em;}#sk-6f676cc3-3a67-47cf-b33d-bdba7c76727e div.sk-estimator:hover {background-color: #d4ebff;}#sk-6f676cc3-3a67-47cf-b33d-bdba7c76727e div.sk-parallel-item::after {content: \"\";width: 100%;border-bottom: 1px solid gray;flex-grow: 1;}#sk-6f676cc3-3a67-47cf-b33d-bdba7c76727e div.sk-label:hover label.sk-toggleable__label {background-color: #d4ebff;}#sk-6f676cc3-3a67-47cf-b33d-bdba7c76727e div.sk-serial::before {content: \"\";position: absolute;border-left: 1px solid gray;box-sizing: border-box;top: 2em;bottom: 0;left: 50%;}#sk-6f676cc3-3a67-47cf-b33d-bdba7c76727e div.sk-serial {display: flex;flex-direction: column;align-items: center;background-color: white;padding-right: 0.2em;padding-left: 0.2em;}#sk-6f676cc3-3a67-47cf-b33d-bdba7c76727e div.sk-item {z-index: 1;}#sk-6f676cc3-3a67-47cf-b33d-bdba7c76727e div.sk-parallel {display: flex;align-items: stretch;justify-content: center;background-color: white;}#sk-6f676cc3-3a67-47cf-b33d-bdba7c76727e div.sk-parallel::before {content: \"\";position: absolute;border-left: 1px solid gray;box-sizing: border-box;top: 2em;bottom: 0;left: 50%;}#sk-6f676cc3-3a67-47cf-b33d-bdba7c76727e div.sk-parallel-item {display: flex;flex-direction: column;position: relative;background-color: white;}#sk-6f676cc3-3a67-47cf-b33d-bdba7c76727e div.sk-parallel-item:first-child::after {align-self: flex-end;width: 50%;}#sk-6f676cc3-3a67-47cf-b33d-bdba7c76727e div.sk-parallel-item:last-child::after {align-self: flex-start;width: 50%;}#sk-6f676cc3-3a67-47cf-b33d-bdba7c76727e div.sk-parallel-item:only-child::after {width: 0;}#sk-6f676cc3-3a67-47cf-b33d-bdba7c76727e div.sk-dashed-wrapped {border: 1px dashed gray;margin: 0 0.4em 0.5em 0.4em;box-sizing: border-box;padding-bottom: 0.4em;background-color: white;position: relative;}#sk-6f676cc3-3a67-47cf-b33d-bdba7c76727e div.sk-label label {font-family: monospace;font-weight: bold;background-color: white;display: inline-block;line-height: 1.2em;}#sk-6f676cc3-3a67-47cf-b33d-bdba7c76727e div.sk-label-container {position: relative;z-index: 2;text-align: center;}#sk-6f676cc3-3a67-47cf-b33d-bdba7c76727e div.sk-container {/* jupyter's `normalize.less` sets `[hidden] { display: none; }` but bootstrap.min.css set `[hidden] { display: none !important; }` so we also need the `!important` here to be able to override the default hidden behavior on the sphinx rendered scikit-learn.org. See: https://github.com/scikit-learn/scikit-learn/issues/21755 */display: inline-block !important;position: relative;}#sk-6f676cc3-3a67-47cf-b33d-bdba7c76727e div.sk-text-repr-fallback {display: none;}</style><div id=\"sk-6f676cc3-3a67-47cf-b33d-bdba7c76727e\" class=\"sk-top-container\"><div class=\"sk-text-repr-fallback\"><pre>Pipeline(steps=[(&#x27;simpleimputer&#x27;, SimpleImputer(strategy=&#x27;most_frequent&#x27;)),\n",
              "                (&#x27;onehotencoder&#x27;,\n",
              "                 OneHotEncoder(handle_unknown=&#x27;ignore&#x27;, sparse=False))])</pre><b>Please rerun this cell to show the HTML repr or trust the notebook.</b></div><div class=\"sk-container\" hidden><div class=\"sk-item sk-dashed-wrapped\"><div class=\"sk-label-container\"><div class=\"sk-label sk-toggleable\"><input class=\"sk-toggleable__control sk-hidden--visually\" id=\"918dd669-7590-4a77-8190-07dfb2802996\" type=\"checkbox\" ><label for=\"918dd669-7590-4a77-8190-07dfb2802996\" class=\"sk-toggleable__label sk-toggleable__label-arrow\">Pipeline</label><div class=\"sk-toggleable__content\"><pre>Pipeline(steps=[(&#x27;simpleimputer&#x27;, SimpleImputer(strategy=&#x27;most_frequent&#x27;)),\n",
              "                (&#x27;onehotencoder&#x27;,\n",
              "                 OneHotEncoder(handle_unknown=&#x27;ignore&#x27;, sparse=False))])</pre></div></div></div><div class=\"sk-serial\"><div class=\"sk-item\"><div class=\"sk-estimator sk-toggleable\"><input class=\"sk-toggleable__control sk-hidden--visually\" id=\"eb81e76b-b381-4757-b03b-f3209bacea4f\" type=\"checkbox\" ><label for=\"eb81e76b-b381-4757-b03b-f3209bacea4f\" class=\"sk-toggleable__label sk-toggleable__label-arrow\">SimpleImputer</label><div class=\"sk-toggleable__content\"><pre>SimpleImputer(strategy=&#x27;most_frequent&#x27;)</pre></div></div></div><div class=\"sk-item\"><div class=\"sk-estimator sk-toggleable\"><input class=\"sk-toggleable__control sk-hidden--visually\" id=\"0fbe33cb-826b-4063-a306-ec2dd2e256cd\" type=\"checkbox\" ><label for=\"0fbe33cb-826b-4063-a306-ec2dd2e256cd\" class=\"sk-toggleable__label sk-toggleable__label-arrow\">OneHotEncoder</label><div class=\"sk-toggleable__content\"><pre>OneHotEncoder(handle_unknown=&#x27;ignore&#x27;, sparse=False)</pre></div></div></div></div></div></div></div>"
            ]
          },
          "metadata": {},
          "execution_count": 293
        }
      ]
    },
    {
      "cell_type": "code",
      "source": [
        "# tuples - first element is the transformer and second element is a ColumnSelector oject\n",
        "number_tuple = (numeric_pipe, num_selector)\n",
        "category_tuple = (categorical_pipe, cat_selector)"
      ],
      "metadata": {
        "id": "V_L9HAb-ifxA"
      },
      "execution_count": 294,
      "outputs": []
    },
    {
      "cell_type": "code",
      "source": [
        "# ColumTransformer, put all together: numerical and categorical columns \n",
        "preprocessor = make_column_transformer(number_tuple, category_tuple, remainder='passthrough')\n",
        "preprocessor"
      ],
      "metadata": {
        "colab": {
          "base_uri": "https://localhost:8080/",
          "height": 152
        },
        "id": "8Ss1LMBNjI37",
        "outputId": "75604b71-dd48-47e0-dc01-7c44768f6c0e"
      },
      "execution_count": 295,
      "outputs": [
        {
          "output_type": "execute_result",
          "data": {
            "text/plain": [
              "ColumnTransformer(remainder='passthrough',\n",
              "                  transformers=[('pipeline-1',\n",
              "                                 Pipeline(steps=[('simpleimputer',\n",
              "                                                  SimpleImputer()),\n",
              "                                                 ('standardscaler',\n",
              "                                                  StandardScaler())]),\n",
              "                                 <sklearn.compose._column_transformer.make_column_selector object at 0x7fd285cbc650>),\n",
              "                                ('pipeline-2',\n",
              "                                 Pipeline(steps=[('simpleimputer',\n",
              "                                                  SimpleImputer(strategy='most_frequent')),\n",
              "                                                 ('onehotencoder',\n",
              "                                                  OneHotEncoder(handle_unknown='ignore',\n",
              "                                                                sparse=False))]),\n",
              "                                 <sklearn.compose._column_transformer.make_column_selector object at 0x7fd285cbc450>)])"
            ],
            "text/html": [
              "<style>#sk-e1b97583-4acc-4a32-b488-e5b6e39d6862 {color: black;background-color: white;}#sk-e1b97583-4acc-4a32-b488-e5b6e39d6862 pre{padding: 0;}#sk-e1b97583-4acc-4a32-b488-e5b6e39d6862 div.sk-toggleable {background-color: white;}#sk-e1b97583-4acc-4a32-b488-e5b6e39d6862 label.sk-toggleable__label {cursor: pointer;display: block;width: 100%;margin-bottom: 0;padding: 0.3em;box-sizing: border-box;text-align: center;}#sk-e1b97583-4acc-4a32-b488-e5b6e39d6862 label.sk-toggleable__label-arrow:before {content: \"▸\";float: left;margin-right: 0.25em;color: #696969;}#sk-e1b97583-4acc-4a32-b488-e5b6e39d6862 label.sk-toggleable__label-arrow:hover:before {color: black;}#sk-e1b97583-4acc-4a32-b488-e5b6e39d6862 div.sk-estimator:hover label.sk-toggleable__label-arrow:before {color: black;}#sk-e1b97583-4acc-4a32-b488-e5b6e39d6862 div.sk-toggleable__content {max-height: 0;max-width: 0;overflow: hidden;text-align: left;background-color: #f0f8ff;}#sk-e1b97583-4acc-4a32-b488-e5b6e39d6862 div.sk-toggleable__content pre {margin: 0.2em;color: black;border-radius: 0.25em;background-color: #f0f8ff;}#sk-e1b97583-4acc-4a32-b488-e5b6e39d6862 input.sk-toggleable__control:checked~div.sk-toggleable__content {max-height: 200px;max-width: 100%;overflow: auto;}#sk-e1b97583-4acc-4a32-b488-e5b6e39d6862 input.sk-toggleable__control:checked~label.sk-toggleable__label-arrow:before {content: \"▾\";}#sk-e1b97583-4acc-4a32-b488-e5b6e39d6862 div.sk-estimator input.sk-toggleable__control:checked~label.sk-toggleable__label {background-color: #d4ebff;}#sk-e1b97583-4acc-4a32-b488-e5b6e39d6862 div.sk-label input.sk-toggleable__control:checked~label.sk-toggleable__label {background-color: #d4ebff;}#sk-e1b97583-4acc-4a32-b488-e5b6e39d6862 input.sk-hidden--visually {border: 0;clip: rect(1px 1px 1px 1px);clip: rect(1px, 1px, 1px, 1px);height: 1px;margin: -1px;overflow: hidden;padding: 0;position: absolute;width: 1px;}#sk-e1b97583-4acc-4a32-b488-e5b6e39d6862 div.sk-estimator {font-family: monospace;background-color: #f0f8ff;border: 1px dotted black;border-radius: 0.25em;box-sizing: border-box;margin-bottom: 0.5em;}#sk-e1b97583-4acc-4a32-b488-e5b6e39d6862 div.sk-estimator:hover {background-color: #d4ebff;}#sk-e1b97583-4acc-4a32-b488-e5b6e39d6862 div.sk-parallel-item::after {content: \"\";width: 100%;border-bottom: 1px solid gray;flex-grow: 1;}#sk-e1b97583-4acc-4a32-b488-e5b6e39d6862 div.sk-label:hover label.sk-toggleable__label {background-color: #d4ebff;}#sk-e1b97583-4acc-4a32-b488-e5b6e39d6862 div.sk-serial::before {content: \"\";position: absolute;border-left: 1px solid gray;box-sizing: border-box;top: 2em;bottom: 0;left: 50%;}#sk-e1b97583-4acc-4a32-b488-e5b6e39d6862 div.sk-serial {display: flex;flex-direction: column;align-items: center;background-color: white;padding-right: 0.2em;padding-left: 0.2em;}#sk-e1b97583-4acc-4a32-b488-e5b6e39d6862 div.sk-item {z-index: 1;}#sk-e1b97583-4acc-4a32-b488-e5b6e39d6862 div.sk-parallel {display: flex;align-items: stretch;justify-content: center;background-color: white;}#sk-e1b97583-4acc-4a32-b488-e5b6e39d6862 div.sk-parallel::before {content: \"\";position: absolute;border-left: 1px solid gray;box-sizing: border-box;top: 2em;bottom: 0;left: 50%;}#sk-e1b97583-4acc-4a32-b488-e5b6e39d6862 div.sk-parallel-item {display: flex;flex-direction: column;position: relative;background-color: white;}#sk-e1b97583-4acc-4a32-b488-e5b6e39d6862 div.sk-parallel-item:first-child::after {align-self: flex-end;width: 50%;}#sk-e1b97583-4acc-4a32-b488-e5b6e39d6862 div.sk-parallel-item:last-child::after {align-self: flex-start;width: 50%;}#sk-e1b97583-4acc-4a32-b488-e5b6e39d6862 div.sk-parallel-item:only-child::after {width: 0;}#sk-e1b97583-4acc-4a32-b488-e5b6e39d6862 div.sk-dashed-wrapped {border: 1px dashed gray;margin: 0 0.4em 0.5em 0.4em;box-sizing: border-box;padding-bottom: 0.4em;background-color: white;position: relative;}#sk-e1b97583-4acc-4a32-b488-e5b6e39d6862 div.sk-label label {font-family: monospace;font-weight: bold;background-color: white;display: inline-block;line-height: 1.2em;}#sk-e1b97583-4acc-4a32-b488-e5b6e39d6862 div.sk-label-container {position: relative;z-index: 2;text-align: center;}#sk-e1b97583-4acc-4a32-b488-e5b6e39d6862 div.sk-container {/* jupyter's `normalize.less` sets `[hidden] { display: none; }` but bootstrap.min.css set `[hidden] { display: none !important; }` so we also need the `!important` here to be able to override the default hidden behavior on the sphinx rendered scikit-learn.org. See: https://github.com/scikit-learn/scikit-learn/issues/21755 */display: inline-block !important;position: relative;}#sk-e1b97583-4acc-4a32-b488-e5b6e39d6862 div.sk-text-repr-fallback {display: none;}</style><div id=\"sk-e1b97583-4acc-4a32-b488-e5b6e39d6862\" class=\"sk-top-container\"><div class=\"sk-text-repr-fallback\"><pre>ColumnTransformer(remainder=&#x27;passthrough&#x27;,\n",
              "                  transformers=[(&#x27;pipeline-1&#x27;,\n",
              "                                 Pipeline(steps=[(&#x27;simpleimputer&#x27;,\n",
              "                                                  SimpleImputer()),\n",
              "                                                 (&#x27;standardscaler&#x27;,\n",
              "                                                  StandardScaler())]),\n",
              "                                 &lt;sklearn.compose._column_transformer.make_column_selector object at 0x7fd285cbc650&gt;),\n",
              "                                (&#x27;pipeline-2&#x27;,\n",
              "                                 Pipeline(steps=[(&#x27;simpleimputer&#x27;,\n",
              "                                                  SimpleImputer(strategy=&#x27;most_frequent&#x27;)),\n",
              "                                                 (&#x27;onehotencoder&#x27;,\n",
              "                                                  OneHotEncoder(handle_unknown=&#x27;ignore&#x27;,\n",
              "                                                                sparse=False))]),\n",
              "                                 &lt;sklearn.compose._column_transformer.make_column_selector object at 0x7fd285cbc450&gt;)])</pre><b>Please rerun this cell to show the HTML repr or trust the notebook.</b></div><div class=\"sk-container\" hidden><div class=\"sk-item sk-dashed-wrapped\"><div class=\"sk-label-container\"><div class=\"sk-label sk-toggleable\"><input class=\"sk-toggleable__control sk-hidden--visually\" id=\"c83e1f1f-6681-46c4-b131-1a0d7b160463\" type=\"checkbox\" ><label for=\"c83e1f1f-6681-46c4-b131-1a0d7b160463\" class=\"sk-toggleable__label sk-toggleable__label-arrow\">ColumnTransformer</label><div class=\"sk-toggleable__content\"><pre>ColumnTransformer(remainder=&#x27;passthrough&#x27;,\n",
              "                  transformers=[(&#x27;pipeline-1&#x27;,\n",
              "                                 Pipeline(steps=[(&#x27;simpleimputer&#x27;,\n",
              "                                                  SimpleImputer()),\n",
              "                                                 (&#x27;standardscaler&#x27;,\n",
              "                                                  StandardScaler())]),\n",
              "                                 &lt;sklearn.compose._column_transformer.make_column_selector object at 0x7fd285cbc650&gt;),\n",
              "                                (&#x27;pipeline-2&#x27;,\n",
              "                                 Pipeline(steps=[(&#x27;simpleimputer&#x27;,\n",
              "                                                  SimpleImputer(strategy=&#x27;most_frequent&#x27;)),\n",
              "                                                 (&#x27;onehotencoder&#x27;,\n",
              "                                                  OneHotEncoder(handle_unknown=&#x27;ignore&#x27;,\n",
              "                                                                sparse=False))]),\n",
              "                                 &lt;sklearn.compose._column_transformer.make_column_selector object at 0x7fd285cbc450&gt;)])</pre></div></div></div><div class=\"sk-parallel\"><div class=\"sk-parallel-item\"><div class=\"sk-item\"><div class=\"sk-label-container\"><div class=\"sk-label sk-toggleable\"><input class=\"sk-toggleable__control sk-hidden--visually\" id=\"6a9fa7bb-53d9-4d1b-b8d4-eb513f895b77\" type=\"checkbox\" ><label for=\"6a9fa7bb-53d9-4d1b-b8d4-eb513f895b77\" class=\"sk-toggleable__label sk-toggleable__label-arrow\">pipeline-1</label><div class=\"sk-toggleable__content\"><pre>&lt;sklearn.compose._column_transformer.make_column_selector object at 0x7fd285cbc650&gt;</pre></div></div></div><div class=\"sk-serial\"><div class=\"sk-item\"><div class=\"sk-serial\"><div class=\"sk-item\"><div class=\"sk-estimator sk-toggleable\"><input class=\"sk-toggleable__control sk-hidden--visually\" id=\"b135d15d-4fb8-4185-8297-3965cb35f0da\" type=\"checkbox\" ><label for=\"b135d15d-4fb8-4185-8297-3965cb35f0da\" class=\"sk-toggleable__label sk-toggleable__label-arrow\">SimpleImputer</label><div class=\"sk-toggleable__content\"><pre>SimpleImputer()</pre></div></div></div><div class=\"sk-item\"><div class=\"sk-estimator sk-toggleable\"><input class=\"sk-toggleable__control sk-hidden--visually\" id=\"209f2b11-4986-4e99-a837-9a40eae01129\" type=\"checkbox\" ><label for=\"209f2b11-4986-4e99-a837-9a40eae01129\" class=\"sk-toggleable__label sk-toggleable__label-arrow\">StandardScaler</label><div class=\"sk-toggleable__content\"><pre>StandardScaler()</pre></div></div></div></div></div></div></div></div><div class=\"sk-parallel-item\"><div class=\"sk-item\"><div class=\"sk-label-container\"><div class=\"sk-label sk-toggleable\"><input class=\"sk-toggleable__control sk-hidden--visually\" id=\"14252914-b4fc-4b29-bff1-b448396d536e\" type=\"checkbox\" ><label for=\"14252914-b4fc-4b29-bff1-b448396d536e\" class=\"sk-toggleable__label sk-toggleable__label-arrow\">pipeline-2</label><div class=\"sk-toggleable__content\"><pre>&lt;sklearn.compose._column_transformer.make_column_selector object at 0x7fd285cbc450&gt;</pre></div></div></div><div class=\"sk-serial\"><div class=\"sk-item\"><div class=\"sk-serial\"><div class=\"sk-item\"><div class=\"sk-estimator sk-toggleable\"><input class=\"sk-toggleable__control sk-hidden--visually\" id=\"ecf60547-6457-4422-9926-58147b01b554\" type=\"checkbox\" ><label for=\"ecf60547-6457-4422-9926-58147b01b554\" class=\"sk-toggleable__label sk-toggleable__label-arrow\">SimpleImputer</label><div class=\"sk-toggleable__content\"><pre>SimpleImputer(strategy=&#x27;most_frequent&#x27;)</pre></div></div></div><div class=\"sk-item\"><div class=\"sk-estimator sk-toggleable\"><input class=\"sk-toggleable__control sk-hidden--visually\" id=\"354b2bbd-14a9-4752-a6e9-a9c67792591b\" type=\"checkbox\" ><label for=\"354b2bbd-14a9-4752-a6e9-a9c67792591b\" class=\"sk-toggleable__label sk-toggleable__label-arrow\">OneHotEncoder</label><div class=\"sk-toggleable__content\"><pre>OneHotEncoder(handle_unknown=&#x27;ignore&#x27;, sparse=False)</pre></div></div></div></div></div></div></div></div><div class=\"sk-parallel-item\"><div class=\"sk-item\"><div class=\"sk-label-container\"><div class=\"sk-label sk-toggleable\"><input class=\"sk-toggleable__control sk-hidden--visually\" id=\"4e173c43-6581-4103-a74b-9366be9b8ad8\" type=\"checkbox\" ><label for=\"4e173c43-6581-4103-a74b-9366be9b8ad8\" class=\"sk-toggleable__label sk-toggleable__label-arrow\">remainder</label><div class=\"sk-toggleable__content\"><pre></pre></div></div></div><div class=\"sk-serial\"><div class=\"sk-item\"><div class=\"sk-estimator sk-toggleable\"><input class=\"sk-toggleable__control sk-hidden--visually\" id=\"c5edc381-24f2-43ca-bc06-7da5c0b4fce5\" type=\"checkbox\" ><label for=\"c5edc381-24f2-43ca-bc06-7da5c0b4fce5\" class=\"sk-toggleable__label sk-toggleable__label-arrow\">passthrough</label><div class=\"sk-toggleable__content\"><pre>passthrough</pre></div></div></div></div></div></div></div></div></div></div>"
            ]
          },
          "metadata": {},
          "execution_count": 295
        }
      ]
    },
    {
      "cell_type": "markdown",
      "source": [
        "# 1. First task is to build a linear regression model to predict sales.\n",
        "\n",
        "Build a linear regression model.\n",
        "\n",
        "Evaluate the performance of your model based on r^2.\n",
        "\n",
        "Evaluate the performance of your model based on rmse."
      ],
      "metadata": {
        "id": "j5mJ_eMjDQrh"
      }
    },
    {
      "cell_type": "markdown",
      "source": [
        "## Build a linear regression model."
      ],
      "metadata": {
        "id": "UxRYZZoqDwDz"
      }
    },
    {
      "cell_type": "code",
      "source": [
        "# instantiate a linear regression model\n",
        "reg = LinearRegression()"
      ],
      "metadata": {
        "id": "Zp8mdwQ6DzrZ"
      },
      "execution_count": 296,
      "outputs": []
    },
    {
      "cell_type": "code",
      "source": [
        "# put preprocessor and linear regression model into a pipeline\n",
        "reg_pipe = make_pipeline(preprocessor, reg)\n",
        "reg_pipe"
      ],
      "metadata": {
        "colab": {
          "base_uri": "https://localhost:8080/",
          "height": 227
        },
        "id": "ufRkKoLiEw3N",
        "outputId": "d8e029c0-a594-4e02-922b-4a3914dec514"
      },
      "execution_count": 297,
      "outputs": [
        {
          "output_type": "execute_result",
          "data": {
            "text/plain": [
              "Pipeline(steps=[('columntransformer',\n",
              "                 ColumnTransformer(remainder='passthrough',\n",
              "                                   transformers=[('pipeline-1',\n",
              "                                                  Pipeline(steps=[('simpleimputer',\n",
              "                                                                   SimpleImputer()),\n",
              "                                                                  ('standardscaler',\n",
              "                                                                   StandardScaler())]),\n",
              "                                                  <sklearn.compose._column_transformer.make_column_selector object at 0x7fd285cbc650>),\n",
              "                                                 ('pipeline-2',\n",
              "                                                  Pipeline(steps=[('simpleimputer',\n",
              "                                                                   SimpleImputer(strategy='most_frequent')),\n",
              "                                                                  ('onehotencoder',\n",
              "                                                                   OneHotEncoder(handle_unknown='ignore',\n",
              "                                                                                 sparse=False))]),\n",
              "                                                  <sklearn.compose._column_transformer.make_column_selector object at 0x7fd285cbc450>)])),\n",
              "                ('linearregression', LinearRegression())])"
            ],
            "text/html": [
              "<style>#sk-2a0b0913-8b37-4347-8b73-ba3b8367c18a {color: black;background-color: white;}#sk-2a0b0913-8b37-4347-8b73-ba3b8367c18a pre{padding: 0;}#sk-2a0b0913-8b37-4347-8b73-ba3b8367c18a div.sk-toggleable {background-color: white;}#sk-2a0b0913-8b37-4347-8b73-ba3b8367c18a label.sk-toggleable__label {cursor: pointer;display: block;width: 100%;margin-bottom: 0;padding: 0.3em;box-sizing: border-box;text-align: center;}#sk-2a0b0913-8b37-4347-8b73-ba3b8367c18a label.sk-toggleable__label-arrow:before {content: \"▸\";float: left;margin-right: 0.25em;color: #696969;}#sk-2a0b0913-8b37-4347-8b73-ba3b8367c18a label.sk-toggleable__label-arrow:hover:before {color: black;}#sk-2a0b0913-8b37-4347-8b73-ba3b8367c18a div.sk-estimator:hover label.sk-toggleable__label-arrow:before {color: black;}#sk-2a0b0913-8b37-4347-8b73-ba3b8367c18a div.sk-toggleable__content {max-height: 0;max-width: 0;overflow: hidden;text-align: left;background-color: #f0f8ff;}#sk-2a0b0913-8b37-4347-8b73-ba3b8367c18a div.sk-toggleable__content pre {margin: 0.2em;color: black;border-radius: 0.25em;background-color: #f0f8ff;}#sk-2a0b0913-8b37-4347-8b73-ba3b8367c18a input.sk-toggleable__control:checked~div.sk-toggleable__content {max-height: 200px;max-width: 100%;overflow: auto;}#sk-2a0b0913-8b37-4347-8b73-ba3b8367c18a input.sk-toggleable__control:checked~label.sk-toggleable__label-arrow:before {content: \"▾\";}#sk-2a0b0913-8b37-4347-8b73-ba3b8367c18a div.sk-estimator input.sk-toggleable__control:checked~label.sk-toggleable__label {background-color: #d4ebff;}#sk-2a0b0913-8b37-4347-8b73-ba3b8367c18a div.sk-label input.sk-toggleable__control:checked~label.sk-toggleable__label {background-color: #d4ebff;}#sk-2a0b0913-8b37-4347-8b73-ba3b8367c18a input.sk-hidden--visually {border: 0;clip: rect(1px 1px 1px 1px);clip: rect(1px, 1px, 1px, 1px);height: 1px;margin: -1px;overflow: hidden;padding: 0;position: absolute;width: 1px;}#sk-2a0b0913-8b37-4347-8b73-ba3b8367c18a div.sk-estimator {font-family: monospace;background-color: #f0f8ff;border: 1px dotted black;border-radius: 0.25em;box-sizing: border-box;margin-bottom: 0.5em;}#sk-2a0b0913-8b37-4347-8b73-ba3b8367c18a div.sk-estimator:hover {background-color: #d4ebff;}#sk-2a0b0913-8b37-4347-8b73-ba3b8367c18a div.sk-parallel-item::after {content: \"\";width: 100%;border-bottom: 1px solid gray;flex-grow: 1;}#sk-2a0b0913-8b37-4347-8b73-ba3b8367c18a div.sk-label:hover label.sk-toggleable__label {background-color: #d4ebff;}#sk-2a0b0913-8b37-4347-8b73-ba3b8367c18a div.sk-serial::before {content: \"\";position: absolute;border-left: 1px solid gray;box-sizing: border-box;top: 2em;bottom: 0;left: 50%;}#sk-2a0b0913-8b37-4347-8b73-ba3b8367c18a div.sk-serial {display: flex;flex-direction: column;align-items: center;background-color: white;padding-right: 0.2em;padding-left: 0.2em;}#sk-2a0b0913-8b37-4347-8b73-ba3b8367c18a div.sk-item {z-index: 1;}#sk-2a0b0913-8b37-4347-8b73-ba3b8367c18a div.sk-parallel {display: flex;align-items: stretch;justify-content: center;background-color: white;}#sk-2a0b0913-8b37-4347-8b73-ba3b8367c18a div.sk-parallel::before {content: \"\";position: absolute;border-left: 1px solid gray;box-sizing: border-box;top: 2em;bottom: 0;left: 50%;}#sk-2a0b0913-8b37-4347-8b73-ba3b8367c18a div.sk-parallel-item {display: flex;flex-direction: column;position: relative;background-color: white;}#sk-2a0b0913-8b37-4347-8b73-ba3b8367c18a div.sk-parallel-item:first-child::after {align-self: flex-end;width: 50%;}#sk-2a0b0913-8b37-4347-8b73-ba3b8367c18a div.sk-parallel-item:last-child::after {align-self: flex-start;width: 50%;}#sk-2a0b0913-8b37-4347-8b73-ba3b8367c18a div.sk-parallel-item:only-child::after {width: 0;}#sk-2a0b0913-8b37-4347-8b73-ba3b8367c18a div.sk-dashed-wrapped {border: 1px dashed gray;margin: 0 0.4em 0.5em 0.4em;box-sizing: border-box;padding-bottom: 0.4em;background-color: white;position: relative;}#sk-2a0b0913-8b37-4347-8b73-ba3b8367c18a div.sk-label label {font-family: monospace;font-weight: bold;background-color: white;display: inline-block;line-height: 1.2em;}#sk-2a0b0913-8b37-4347-8b73-ba3b8367c18a div.sk-label-container {position: relative;z-index: 2;text-align: center;}#sk-2a0b0913-8b37-4347-8b73-ba3b8367c18a div.sk-container {/* jupyter's `normalize.less` sets `[hidden] { display: none; }` but bootstrap.min.css set `[hidden] { display: none !important; }` so we also need the `!important` here to be able to override the default hidden behavior on the sphinx rendered scikit-learn.org. See: https://github.com/scikit-learn/scikit-learn/issues/21755 */display: inline-block !important;position: relative;}#sk-2a0b0913-8b37-4347-8b73-ba3b8367c18a div.sk-text-repr-fallback {display: none;}</style><div id=\"sk-2a0b0913-8b37-4347-8b73-ba3b8367c18a\" class=\"sk-top-container\"><div class=\"sk-text-repr-fallback\"><pre>Pipeline(steps=[(&#x27;columntransformer&#x27;,\n",
              "                 ColumnTransformer(remainder=&#x27;passthrough&#x27;,\n",
              "                                   transformers=[(&#x27;pipeline-1&#x27;,\n",
              "                                                  Pipeline(steps=[(&#x27;simpleimputer&#x27;,\n",
              "                                                                   SimpleImputer()),\n",
              "                                                                  (&#x27;standardscaler&#x27;,\n",
              "                                                                   StandardScaler())]),\n",
              "                                                  &lt;sklearn.compose._column_transformer.make_column_selector object at 0x7fd285cbc650&gt;),\n",
              "                                                 (&#x27;pipeline-2&#x27;,\n",
              "                                                  Pipeline(steps=[(&#x27;simpleimputer&#x27;,\n",
              "                                                                   SimpleImputer(strategy=&#x27;most_frequent&#x27;)),\n",
              "                                                                  (&#x27;onehotencoder&#x27;,\n",
              "                                                                   OneHotEncoder(handle_unknown=&#x27;ignore&#x27;,\n",
              "                                                                                 sparse=False))]),\n",
              "                                                  &lt;sklearn.compose._column_transformer.make_column_selector object at 0x7fd285cbc450&gt;)])),\n",
              "                (&#x27;linearregression&#x27;, LinearRegression())])</pre><b>Please rerun this cell to show the HTML repr or trust the notebook.</b></div><div class=\"sk-container\" hidden><div class=\"sk-item sk-dashed-wrapped\"><div class=\"sk-label-container\"><div class=\"sk-label sk-toggleable\"><input class=\"sk-toggleable__control sk-hidden--visually\" id=\"5f5fd0fb-2913-47f3-975d-dba6222b1228\" type=\"checkbox\" ><label for=\"5f5fd0fb-2913-47f3-975d-dba6222b1228\" class=\"sk-toggleable__label sk-toggleable__label-arrow\">Pipeline</label><div class=\"sk-toggleable__content\"><pre>Pipeline(steps=[(&#x27;columntransformer&#x27;,\n",
              "                 ColumnTransformer(remainder=&#x27;passthrough&#x27;,\n",
              "                                   transformers=[(&#x27;pipeline-1&#x27;,\n",
              "                                                  Pipeline(steps=[(&#x27;simpleimputer&#x27;,\n",
              "                                                                   SimpleImputer()),\n",
              "                                                                  (&#x27;standardscaler&#x27;,\n",
              "                                                                   StandardScaler())]),\n",
              "                                                  &lt;sklearn.compose._column_transformer.make_column_selector object at 0x7fd285cbc650&gt;),\n",
              "                                                 (&#x27;pipeline-2&#x27;,\n",
              "                                                  Pipeline(steps=[(&#x27;simpleimputer&#x27;,\n",
              "                                                                   SimpleImputer(strategy=&#x27;most_frequent&#x27;)),\n",
              "                                                                  (&#x27;onehotencoder&#x27;,\n",
              "                                                                   OneHotEncoder(handle_unknown=&#x27;ignore&#x27;,\n",
              "                                                                                 sparse=False))]),\n",
              "                                                  &lt;sklearn.compose._column_transformer.make_column_selector object at 0x7fd285cbc450&gt;)])),\n",
              "                (&#x27;linearregression&#x27;, LinearRegression())])</pre></div></div></div><div class=\"sk-serial\"><div class=\"sk-item sk-dashed-wrapped\"><div class=\"sk-label-container\"><div class=\"sk-label sk-toggleable\"><input class=\"sk-toggleable__control sk-hidden--visually\" id=\"1b2d503d-8695-4898-9e92-be6b89676eac\" type=\"checkbox\" ><label for=\"1b2d503d-8695-4898-9e92-be6b89676eac\" class=\"sk-toggleable__label sk-toggleable__label-arrow\">columntransformer: ColumnTransformer</label><div class=\"sk-toggleable__content\"><pre>ColumnTransformer(remainder=&#x27;passthrough&#x27;,\n",
              "                  transformers=[(&#x27;pipeline-1&#x27;,\n",
              "                                 Pipeline(steps=[(&#x27;simpleimputer&#x27;,\n",
              "                                                  SimpleImputer()),\n",
              "                                                 (&#x27;standardscaler&#x27;,\n",
              "                                                  StandardScaler())]),\n",
              "                                 &lt;sklearn.compose._column_transformer.make_column_selector object at 0x7fd285cbc650&gt;),\n",
              "                                (&#x27;pipeline-2&#x27;,\n",
              "                                 Pipeline(steps=[(&#x27;simpleimputer&#x27;,\n",
              "                                                  SimpleImputer(strategy=&#x27;most_frequent&#x27;)),\n",
              "                                                 (&#x27;onehotencoder&#x27;,\n",
              "                                                  OneHotEncoder(handle_unknown=&#x27;ignore&#x27;,\n",
              "                                                                sparse=False))]),\n",
              "                                 &lt;sklearn.compose._column_transformer.make_column_selector object at 0x7fd285cbc450&gt;)])</pre></div></div></div><div class=\"sk-parallel\"><div class=\"sk-parallel-item\"><div class=\"sk-item\"><div class=\"sk-label-container\"><div class=\"sk-label sk-toggleable\"><input class=\"sk-toggleable__control sk-hidden--visually\" id=\"141227e7-4f60-4b95-ab0d-d15eeeac6038\" type=\"checkbox\" ><label for=\"141227e7-4f60-4b95-ab0d-d15eeeac6038\" class=\"sk-toggleable__label sk-toggleable__label-arrow\">pipeline-1</label><div class=\"sk-toggleable__content\"><pre>&lt;sklearn.compose._column_transformer.make_column_selector object at 0x7fd285cbc650&gt;</pre></div></div></div><div class=\"sk-serial\"><div class=\"sk-item\"><div class=\"sk-serial\"><div class=\"sk-item\"><div class=\"sk-estimator sk-toggleable\"><input class=\"sk-toggleable__control sk-hidden--visually\" id=\"83836364-3fff-475d-a6f7-6e47f1f69682\" type=\"checkbox\" ><label for=\"83836364-3fff-475d-a6f7-6e47f1f69682\" class=\"sk-toggleable__label sk-toggleable__label-arrow\">SimpleImputer</label><div class=\"sk-toggleable__content\"><pre>SimpleImputer()</pre></div></div></div><div class=\"sk-item\"><div class=\"sk-estimator sk-toggleable\"><input class=\"sk-toggleable__control sk-hidden--visually\" id=\"1042cdae-1e49-46ee-9c9c-08f17d7387fa\" type=\"checkbox\" ><label for=\"1042cdae-1e49-46ee-9c9c-08f17d7387fa\" class=\"sk-toggleable__label sk-toggleable__label-arrow\">StandardScaler</label><div class=\"sk-toggleable__content\"><pre>StandardScaler()</pre></div></div></div></div></div></div></div></div><div class=\"sk-parallel-item\"><div class=\"sk-item\"><div class=\"sk-label-container\"><div class=\"sk-label sk-toggleable\"><input class=\"sk-toggleable__control sk-hidden--visually\" id=\"b1f1313a-c52c-4db0-a195-174aad980080\" type=\"checkbox\" ><label for=\"b1f1313a-c52c-4db0-a195-174aad980080\" class=\"sk-toggleable__label sk-toggleable__label-arrow\">pipeline-2</label><div class=\"sk-toggleable__content\"><pre>&lt;sklearn.compose._column_transformer.make_column_selector object at 0x7fd285cbc450&gt;</pre></div></div></div><div class=\"sk-serial\"><div class=\"sk-item\"><div class=\"sk-serial\"><div class=\"sk-item\"><div class=\"sk-estimator sk-toggleable\"><input class=\"sk-toggleable__control sk-hidden--visually\" id=\"1a03a97a-d800-4479-8c93-7c638063609d\" type=\"checkbox\" ><label for=\"1a03a97a-d800-4479-8c93-7c638063609d\" class=\"sk-toggleable__label sk-toggleable__label-arrow\">SimpleImputer</label><div class=\"sk-toggleable__content\"><pre>SimpleImputer(strategy=&#x27;most_frequent&#x27;)</pre></div></div></div><div class=\"sk-item\"><div class=\"sk-estimator sk-toggleable\"><input class=\"sk-toggleable__control sk-hidden--visually\" id=\"6f5d43c7-e780-49a2-8ff7-9170e72a1020\" type=\"checkbox\" ><label for=\"6f5d43c7-e780-49a2-8ff7-9170e72a1020\" class=\"sk-toggleable__label sk-toggleable__label-arrow\">OneHotEncoder</label><div class=\"sk-toggleable__content\"><pre>OneHotEncoder(handle_unknown=&#x27;ignore&#x27;, sparse=False)</pre></div></div></div></div></div></div></div></div><div class=\"sk-parallel-item\"><div class=\"sk-item\"><div class=\"sk-label-container\"><div class=\"sk-label sk-toggleable\"><input class=\"sk-toggleable__control sk-hidden--visually\" id=\"c565c05c-63cc-428e-9a48-2c58c78aa8d6\" type=\"checkbox\" ><label for=\"c565c05c-63cc-428e-9a48-2c58c78aa8d6\" class=\"sk-toggleable__label sk-toggleable__label-arrow\">remainder</label><div class=\"sk-toggleable__content\"><pre></pre></div></div></div><div class=\"sk-serial\"><div class=\"sk-item\"><div class=\"sk-estimator sk-toggleable\"><input class=\"sk-toggleable__control sk-hidden--visually\" id=\"2c4dcb5d-9156-4e98-9b9a-9a410251fd76\" type=\"checkbox\" ><label for=\"2c4dcb5d-9156-4e98-9b9a-9a410251fd76\" class=\"sk-toggleable__label sk-toggleable__label-arrow\">passthrough</label><div class=\"sk-toggleable__content\"><pre>passthrough</pre></div></div></div></div></div></div></div></div><div class=\"sk-item\"><div class=\"sk-estimator sk-toggleable\"><input class=\"sk-toggleable__control sk-hidden--visually\" id=\"05d50f5c-ef54-4c06-b43f-2f73204d0828\" type=\"checkbox\" ><label for=\"05d50f5c-ef54-4c06-b43f-2f73204d0828\" class=\"sk-toggleable__label sk-toggleable__label-arrow\">LinearRegression</label><div class=\"sk-toggleable__content\"><pre>LinearRegression()</pre></div></div></div></div></div></div></div>"
            ]
          },
          "metadata": {},
          "execution_count": 297
        }
      ]
    },
    {
      "cell_type": "code",
      "source": [
        "# fit the pipe in the training data\n",
        "reg_pipe.fit(X_train, y_train)"
      ],
      "metadata": {
        "colab": {
          "base_uri": "https://localhost:8080/",
          "height": 227
        },
        "id": "QaUnDEd9FM-b",
        "outputId": "3ab32ebe-2ebc-4611-8d5e-b6623b9ee9c2"
      },
      "execution_count": 298,
      "outputs": [
        {
          "output_type": "execute_result",
          "data": {
            "text/plain": [
              "Pipeline(steps=[('columntransformer',\n",
              "                 ColumnTransformer(remainder='passthrough',\n",
              "                                   transformers=[('pipeline-1',\n",
              "                                                  Pipeline(steps=[('simpleimputer',\n",
              "                                                                   SimpleImputer()),\n",
              "                                                                  ('standardscaler',\n",
              "                                                                   StandardScaler())]),\n",
              "                                                  <sklearn.compose._column_transformer.make_column_selector object at 0x7fd285cbc650>),\n",
              "                                                 ('pipeline-2',\n",
              "                                                  Pipeline(steps=[('simpleimputer',\n",
              "                                                                   SimpleImputer(strategy='most_frequent')),\n",
              "                                                                  ('onehotencoder',\n",
              "                                                                   OneHotEncoder(handle_unknown='ignore',\n",
              "                                                                                 sparse=False))]),\n",
              "                                                  <sklearn.compose._column_transformer.make_column_selector object at 0x7fd285cbc450>)])),\n",
              "                ('linearregression', LinearRegression())])"
            ],
            "text/html": [
              "<style>#sk-b2706e8c-faba-4651-9625-0221b686e949 {color: black;background-color: white;}#sk-b2706e8c-faba-4651-9625-0221b686e949 pre{padding: 0;}#sk-b2706e8c-faba-4651-9625-0221b686e949 div.sk-toggleable {background-color: white;}#sk-b2706e8c-faba-4651-9625-0221b686e949 label.sk-toggleable__label {cursor: pointer;display: block;width: 100%;margin-bottom: 0;padding: 0.3em;box-sizing: border-box;text-align: center;}#sk-b2706e8c-faba-4651-9625-0221b686e949 label.sk-toggleable__label-arrow:before {content: \"▸\";float: left;margin-right: 0.25em;color: #696969;}#sk-b2706e8c-faba-4651-9625-0221b686e949 label.sk-toggleable__label-arrow:hover:before {color: black;}#sk-b2706e8c-faba-4651-9625-0221b686e949 div.sk-estimator:hover label.sk-toggleable__label-arrow:before {color: black;}#sk-b2706e8c-faba-4651-9625-0221b686e949 div.sk-toggleable__content {max-height: 0;max-width: 0;overflow: hidden;text-align: left;background-color: #f0f8ff;}#sk-b2706e8c-faba-4651-9625-0221b686e949 div.sk-toggleable__content pre {margin: 0.2em;color: black;border-radius: 0.25em;background-color: #f0f8ff;}#sk-b2706e8c-faba-4651-9625-0221b686e949 input.sk-toggleable__control:checked~div.sk-toggleable__content {max-height: 200px;max-width: 100%;overflow: auto;}#sk-b2706e8c-faba-4651-9625-0221b686e949 input.sk-toggleable__control:checked~label.sk-toggleable__label-arrow:before {content: \"▾\";}#sk-b2706e8c-faba-4651-9625-0221b686e949 div.sk-estimator input.sk-toggleable__control:checked~label.sk-toggleable__label {background-color: #d4ebff;}#sk-b2706e8c-faba-4651-9625-0221b686e949 div.sk-label input.sk-toggleable__control:checked~label.sk-toggleable__label {background-color: #d4ebff;}#sk-b2706e8c-faba-4651-9625-0221b686e949 input.sk-hidden--visually {border: 0;clip: rect(1px 1px 1px 1px);clip: rect(1px, 1px, 1px, 1px);height: 1px;margin: -1px;overflow: hidden;padding: 0;position: absolute;width: 1px;}#sk-b2706e8c-faba-4651-9625-0221b686e949 div.sk-estimator {font-family: monospace;background-color: #f0f8ff;border: 1px dotted black;border-radius: 0.25em;box-sizing: border-box;margin-bottom: 0.5em;}#sk-b2706e8c-faba-4651-9625-0221b686e949 div.sk-estimator:hover {background-color: #d4ebff;}#sk-b2706e8c-faba-4651-9625-0221b686e949 div.sk-parallel-item::after {content: \"\";width: 100%;border-bottom: 1px solid gray;flex-grow: 1;}#sk-b2706e8c-faba-4651-9625-0221b686e949 div.sk-label:hover label.sk-toggleable__label {background-color: #d4ebff;}#sk-b2706e8c-faba-4651-9625-0221b686e949 div.sk-serial::before {content: \"\";position: absolute;border-left: 1px solid gray;box-sizing: border-box;top: 2em;bottom: 0;left: 50%;}#sk-b2706e8c-faba-4651-9625-0221b686e949 div.sk-serial {display: flex;flex-direction: column;align-items: center;background-color: white;padding-right: 0.2em;padding-left: 0.2em;}#sk-b2706e8c-faba-4651-9625-0221b686e949 div.sk-item {z-index: 1;}#sk-b2706e8c-faba-4651-9625-0221b686e949 div.sk-parallel {display: flex;align-items: stretch;justify-content: center;background-color: white;}#sk-b2706e8c-faba-4651-9625-0221b686e949 div.sk-parallel::before {content: \"\";position: absolute;border-left: 1px solid gray;box-sizing: border-box;top: 2em;bottom: 0;left: 50%;}#sk-b2706e8c-faba-4651-9625-0221b686e949 div.sk-parallel-item {display: flex;flex-direction: column;position: relative;background-color: white;}#sk-b2706e8c-faba-4651-9625-0221b686e949 div.sk-parallel-item:first-child::after {align-self: flex-end;width: 50%;}#sk-b2706e8c-faba-4651-9625-0221b686e949 div.sk-parallel-item:last-child::after {align-self: flex-start;width: 50%;}#sk-b2706e8c-faba-4651-9625-0221b686e949 div.sk-parallel-item:only-child::after {width: 0;}#sk-b2706e8c-faba-4651-9625-0221b686e949 div.sk-dashed-wrapped {border: 1px dashed gray;margin: 0 0.4em 0.5em 0.4em;box-sizing: border-box;padding-bottom: 0.4em;background-color: white;position: relative;}#sk-b2706e8c-faba-4651-9625-0221b686e949 div.sk-label label {font-family: monospace;font-weight: bold;background-color: white;display: inline-block;line-height: 1.2em;}#sk-b2706e8c-faba-4651-9625-0221b686e949 div.sk-label-container {position: relative;z-index: 2;text-align: center;}#sk-b2706e8c-faba-4651-9625-0221b686e949 div.sk-container {/* jupyter's `normalize.less` sets `[hidden] { display: none; }` but bootstrap.min.css set `[hidden] { display: none !important; }` so we also need the `!important` here to be able to override the default hidden behavior on the sphinx rendered scikit-learn.org. See: https://github.com/scikit-learn/scikit-learn/issues/21755 */display: inline-block !important;position: relative;}#sk-b2706e8c-faba-4651-9625-0221b686e949 div.sk-text-repr-fallback {display: none;}</style><div id=\"sk-b2706e8c-faba-4651-9625-0221b686e949\" class=\"sk-top-container\"><div class=\"sk-text-repr-fallback\"><pre>Pipeline(steps=[(&#x27;columntransformer&#x27;,\n",
              "                 ColumnTransformer(remainder=&#x27;passthrough&#x27;,\n",
              "                                   transformers=[(&#x27;pipeline-1&#x27;,\n",
              "                                                  Pipeline(steps=[(&#x27;simpleimputer&#x27;,\n",
              "                                                                   SimpleImputer()),\n",
              "                                                                  (&#x27;standardscaler&#x27;,\n",
              "                                                                   StandardScaler())]),\n",
              "                                                  &lt;sklearn.compose._column_transformer.make_column_selector object at 0x7fd285cbc650&gt;),\n",
              "                                                 (&#x27;pipeline-2&#x27;,\n",
              "                                                  Pipeline(steps=[(&#x27;simpleimputer&#x27;,\n",
              "                                                                   SimpleImputer(strategy=&#x27;most_frequent&#x27;)),\n",
              "                                                                  (&#x27;onehotencoder&#x27;,\n",
              "                                                                   OneHotEncoder(handle_unknown=&#x27;ignore&#x27;,\n",
              "                                                                                 sparse=False))]),\n",
              "                                                  &lt;sklearn.compose._column_transformer.make_column_selector object at 0x7fd285cbc450&gt;)])),\n",
              "                (&#x27;linearregression&#x27;, LinearRegression())])</pre><b>Please rerun this cell to show the HTML repr or trust the notebook.</b></div><div class=\"sk-container\" hidden><div class=\"sk-item sk-dashed-wrapped\"><div class=\"sk-label-container\"><div class=\"sk-label sk-toggleable\"><input class=\"sk-toggleable__control sk-hidden--visually\" id=\"0fe60956-3428-4f9c-af85-3c516e802e3b\" type=\"checkbox\" ><label for=\"0fe60956-3428-4f9c-af85-3c516e802e3b\" class=\"sk-toggleable__label sk-toggleable__label-arrow\">Pipeline</label><div class=\"sk-toggleable__content\"><pre>Pipeline(steps=[(&#x27;columntransformer&#x27;,\n",
              "                 ColumnTransformer(remainder=&#x27;passthrough&#x27;,\n",
              "                                   transformers=[(&#x27;pipeline-1&#x27;,\n",
              "                                                  Pipeline(steps=[(&#x27;simpleimputer&#x27;,\n",
              "                                                                   SimpleImputer()),\n",
              "                                                                  (&#x27;standardscaler&#x27;,\n",
              "                                                                   StandardScaler())]),\n",
              "                                                  &lt;sklearn.compose._column_transformer.make_column_selector object at 0x7fd285cbc650&gt;),\n",
              "                                                 (&#x27;pipeline-2&#x27;,\n",
              "                                                  Pipeline(steps=[(&#x27;simpleimputer&#x27;,\n",
              "                                                                   SimpleImputer(strategy=&#x27;most_frequent&#x27;)),\n",
              "                                                                  (&#x27;onehotencoder&#x27;,\n",
              "                                                                   OneHotEncoder(handle_unknown=&#x27;ignore&#x27;,\n",
              "                                                                                 sparse=False))]),\n",
              "                                                  &lt;sklearn.compose._column_transformer.make_column_selector object at 0x7fd285cbc450&gt;)])),\n",
              "                (&#x27;linearregression&#x27;, LinearRegression())])</pre></div></div></div><div class=\"sk-serial\"><div class=\"sk-item sk-dashed-wrapped\"><div class=\"sk-label-container\"><div class=\"sk-label sk-toggleable\"><input class=\"sk-toggleable__control sk-hidden--visually\" id=\"39033ec0-cbff-4284-a1de-e321cb20fc9c\" type=\"checkbox\" ><label for=\"39033ec0-cbff-4284-a1de-e321cb20fc9c\" class=\"sk-toggleable__label sk-toggleable__label-arrow\">columntransformer: ColumnTransformer</label><div class=\"sk-toggleable__content\"><pre>ColumnTransformer(remainder=&#x27;passthrough&#x27;,\n",
              "                  transformers=[(&#x27;pipeline-1&#x27;,\n",
              "                                 Pipeline(steps=[(&#x27;simpleimputer&#x27;,\n",
              "                                                  SimpleImputer()),\n",
              "                                                 (&#x27;standardscaler&#x27;,\n",
              "                                                  StandardScaler())]),\n",
              "                                 &lt;sklearn.compose._column_transformer.make_column_selector object at 0x7fd285cbc650&gt;),\n",
              "                                (&#x27;pipeline-2&#x27;,\n",
              "                                 Pipeline(steps=[(&#x27;simpleimputer&#x27;,\n",
              "                                                  SimpleImputer(strategy=&#x27;most_frequent&#x27;)),\n",
              "                                                 (&#x27;onehotencoder&#x27;,\n",
              "                                                  OneHotEncoder(handle_unknown=&#x27;ignore&#x27;,\n",
              "                                                                sparse=False))]),\n",
              "                                 &lt;sklearn.compose._column_transformer.make_column_selector object at 0x7fd285cbc450&gt;)])</pre></div></div></div><div class=\"sk-parallel\"><div class=\"sk-parallel-item\"><div class=\"sk-item\"><div class=\"sk-label-container\"><div class=\"sk-label sk-toggleable\"><input class=\"sk-toggleable__control sk-hidden--visually\" id=\"b90f0ce3-39f2-4ba7-96bd-aa703bf6279f\" type=\"checkbox\" ><label for=\"b90f0ce3-39f2-4ba7-96bd-aa703bf6279f\" class=\"sk-toggleable__label sk-toggleable__label-arrow\">pipeline-1</label><div class=\"sk-toggleable__content\"><pre>&lt;sklearn.compose._column_transformer.make_column_selector object at 0x7fd285cbc650&gt;</pre></div></div></div><div class=\"sk-serial\"><div class=\"sk-item\"><div class=\"sk-serial\"><div class=\"sk-item\"><div class=\"sk-estimator sk-toggleable\"><input class=\"sk-toggleable__control sk-hidden--visually\" id=\"b27b825a-6d9d-46f0-abed-0a34e182642a\" type=\"checkbox\" ><label for=\"b27b825a-6d9d-46f0-abed-0a34e182642a\" class=\"sk-toggleable__label sk-toggleable__label-arrow\">SimpleImputer</label><div class=\"sk-toggleable__content\"><pre>SimpleImputer()</pre></div></div></div><div class=\"sk-item\"><div class=\"sk-estimator sk-toggleable\"><input class=\"sk-toggleable__control sk-hidden--visually\" id=\"41275f85-e7c4-4dea-89cc-527a02cda3fe\" type=\"checkbox\" ><label for=\"41275f85-e7c4-4dea-89cc-527a02cda3fe\" class=\"sk-toggleable__label sk-toggleable__label-arrow\">StandardScaler</label><div class=\"sk-toggleable__content\"><pre>StandardScaler()</pre></div></div></div></div></div></div></div></div><div class=\"sk-parallel-item\"><div class=\"sk-item\"><div class=\"sk-label-container\"><div class=\"sk-label sk-toggleable\"><input class=\"sk-toggleable__control sk-hidden--visually\" id=\"356ffa3f-f36d-472d-8d0a-84190d1745ec\" type=\"checkbox\" ><label for=\"356ffa3f-f36d-472d-8d0a-84190d1745ec\" class=\"sk-toggleable__label sk-toggleable__label-arrow\">pipeline-2</label><div class=\"sk-toggleable__content\"><pre>&lt;sklearn.compose._column_transformer.make_column_selector object at 0x7fd285cbc450&gt;</pre></div></div></div><div class=\"sk-serial\"><div class=\"sk-item\"><div class=\"sk-serial\"><div class=\"sk-item\"><div class=\"sk-estimator sk-toggleable\"><input class=\"sk-toggleable__control sk-hidden--visually\" id=\"77c919c8-9b10-4413-b8e5-1881cc7bc457\" type=\"checkbox\" ><label for=\"77c919c8-9b10-4413-b8e5-1881cc7bc457\" class=\"sk-toggleable__label sk-toggleable__label-arrow\">SimpleImputer</label><div class=\"sk-toggleable__content\"><pre>SimpleImputer(strategy=&#x27;most_frequent&#x27;)</pre></div></div></div><div class=\"sk-item\"><div class=\"sk-estimator sk-toggleable\"><input class=\"sk-toggleable__control sk-hidden--visually\" id=\"808e838d-89f9-4213-aa9f-0e061e8a91a4\" type=\"checkbox\" ><label for=\"808e838d-89f9-4213-aa9f-0e061e8a91a4\" class=\"sk-toggleable__label sk-toggleable__label-arrow\">OneHotEncoder</label><div class=\"sk-toggleable__content\"><pre>OneHotEncoder(handle_unknown=&#x27;ignore&#x27;, sparse=False)</pre></div></div></div></div></div></div></div></div><div class=\"sk-parallel-item\"><div class=\"sk-item\"><div class=\"sk-label-container\"><div class=\"sk-label sk-toggleable\"><input class=\"sk-toggleable__control sk-hidden--visually\" id=\"b4d6c114-3ccc-4789-9751-304ded454b25\" type=\"checkbox\" ><label for=\"b4d6c114-3ccc-4789-9751-304ded454b25\" class=\"sk-toggleable__label sk-toggleable__label-arrow\">remainder</label><div class=\"sk-toggleable__content\"><pre>[]</pre></div></div></div><div class=\"sk-serial\"><div class=\"sk-item\"><div class=\"sk-estimator sk-toggleable\"><input class=\"sk-toggleable__control sk-hidden--visually\" id=\"dc3b707a-62f2-4766-8ca9-b240938a3646\" type=\"checkbox\" ><label for=\"dc3b707a-62f2-4766-8ca9-b240938a3646\" class=\"sk-toggleable__label sk-toggleable__label-arrow\">passthrough</label><div class=\"sk-toggleable__content\"><pre>passthrough</pre></div></div></div></div></div></div></div></div><div class=\"sk-item\"><div class=\"sk-estimator sk-toggleable\"><input class=\"sk-toggleable__control sk-hidden--visually\" id=\"8f9b5e17-24fc-4dd8-beed-d332d5fc82d5\" type=\"checkbox\" ><label for=\"8f9b5e17-24fc-4dd8-beed-d332d5fc82d5\" class=\"sk-toggleable__label sk-toggleable__label-arrow\">LinearRegression</label><div class=\"sk-toggleable__content\"><pre>LinearRegression()</pre></div></div></div></div></div></div></div>"
            ]
          },
          "metadata": {},
          "execution_count": 298
        }
      ]
    },
    {
      "cell_type": "code",
      "source": [
        "# find predict values, and error values \n",
        "train_pred_linear = reg_pipe.predict(X_train)\n",
        "test_pred_linear = reg_pipe.predict(X_test) # these are predict values \n",
        "# check predict Item_Outlet_Sales\n",
        "test_pred_linear"
      ],
      "metadata": {
        "colab": {
          "base_uri": "https://localhost:8080/"
        },
        "id": "IOw8ZFIXF-kA",
        "outputId": "a1247744-e4e1-445a-9c35-4d1253c9d205"
      },
      "execution_count": 299,
      "outputs": [
        {
          "output_type": "execute_result",
          "data": {
            "text/plain": [
              "array([1361.30704699,  783.83785147,  813.37881288, ..., 3404.69972553,\n",
              "       1957.44280701, 2423.87180061])"
            ]
          },
          "metadata": {},
          "execution_count": 299
        }
      ]
    },
    {
      "cell_type": "code",
      "source": [
        "train_pred_linear"
      ],
      "metadata": {
        "colab": {
          "base_uri": "https://localhost:8080/"
        },
        "id": "V_lHmowtRor3",
        "outputId": "609c898c-8070-4644-b0f3-1c08a7d05152"
      },
      "execution_count": 300,
      "outputs": [
        {
          "output_type": "execute_result",
          "data": {
            "text/plain": [
              "array([3809.36426114, 2657.13562766, 2542.86721442, ..., 3840.22685812,\n",
              "       1895.33477569, 1602.16422832])"
            ]
          },
          "metadata": {},
          "execution_count": 300
        }
      ]
    },
    {
      "cell_type": "code",
      "source": [
        "# to make the analisis easier transform to df\n",
        "prediction_df = X_test.copy()\n",
        "\n",
        "# add new column to df:\n",
        "# True value of  Item_Outlet_Sales is y_test\n",
        "prediction_df['True Item_Outlet_Sales'] = y_test\n",
        "# Predict value of Item_Outlet_Sales\n",
        "prediction_df['Predicted Item_Outlet_Sales'] = test_pred_linear\n",
        "# error value:\n",
        "prediction_df['Error'] = test_pred_linear - y_test\n",
        "prediction_df.describe()\n",
        "\n"
      ],
      "metadata": {
        "colab": {
          "base_uri": "https://localhost:8080/",
          "height": 382
        },
        "id": "fTH7of6aHZIL",
        "outputId": "a55cf625-3494-4f9f-f65f-b27e72bc6c72"
      },
      "execution_count": 301,
      "outputs": [
        {
          "output_type": "execute_result",
          "data": {
            "text/plain": [
              "       Item_Weight  Item_Visibility     Item_MRP  True Item_Outlet_Sales  \\\n",
              "count  1775.000000      2131.000000  2131.000000             2131.000000   \n",
              "mean     12.718262         0.066507   138.030391             2095.231046   \n",
              "std       4.661051         0.052985    61.119147             1661.406808   \n",
              "min       4.590000         0.000000    32.490000               33.290000   \n",
              "25%       8.510000         0.026934    93.093600              772.993800   \n",
              "50%      12.500000         0.053586   132.528400             1737.738000   \n",
              "75%      16.700000         0.094514   181.812100             2986.113000   \n",
              "max      21.350000         0.311090   266.588400            10236.675000   \n",
              "\n",
              "       Predicted Item_Outlet_Sales        Error  \n",
              "count                  2131.000000  2131.000000  \n",
              "mean                   2113.440261    18.209215  \n",
              "std                    1291.761985  1094.862438  \n",
              "min                   -1461.448801 -5623.805745  \n",
              "25%                    1209.858607  -533.993034  \n",
              "50%                    2081.740116    88.970424  \n",
              "75%                    2998.806965   658.441454  \n",
              "max                    5649.868477  3479.679883  "
            ],
            "text/html": [
              "\n",
              "  <div id=\"df-d2b16a63-c13c-4dc6-a4cf-8539cd67e9e7\">\n",
              "    <div class=\"colab-df-container\">\n",
              "      <div>\n",
              "<style scoped>\n",
              "    .dataframe tbody tr th:only-of-type {\n",
              "        vertical-align: middle;\n",
              "    }\n",
              "\n",
              "    .dataframe tbody tr th {\n",
              "        vertical-align: top;\n",
              "    }\n",
              "\n",
              "    .dataframe thead th {\n",
              "        text-align: right;\n",
              "    }\n",
              "</style>\n",
              "<table border=\"1\" class=\"dataframe\">\n",
              "  <thead>\n",
              "    <tr style=\"text-align: right;\">\n",
              "      <th></th>\n",
              "      <th>Item_Weight</th>\n",
              "      <th>Item_Visibility</th>\n",
              "      <th>Item_MRP</th>\n",
              "      <th>True Item_Outlet_Sales</th>\n",
              "      <th>Predicted Item_Outlet_Sales</th>\n",
              "      <th>Error</th>\n",
              "    </tr>\n",
              "  </thead>\n",
              "  <tbody>\n",
              "    <tr>\n",
              "      <th>count</th>\n",
              "      <td>1775.000000</td>\n",
              "      <td>2131.000000</td>\n",
              "      <td>2131.000000</td>\n",
              "      <td>2131.000000</td>\n",
              "      <td>2131.000000</td>\n",
              "      <td>2131.000000</td>\n",
              "    </tr>\n",
              "    <tr>\n",
              "      <th>mean</th>\n",
              "      <td>12.718262</td>\n",
              "      <td>0.066507</td>\n",
              "      <td>138.030391</td>\n",
              "      <td>2095.231046</td>\n",
              "      <td>2113.440261</td>\n",
              "      <td>18.209215</td>\n",
              "    </tr>\n",
              "    <tr>\n",
              "      <th>std</th>\n",
              "      <td>4.661051</td>\n",
              "      <td>0.052985</td>\n",
              "      <td>61.119147</td>\n",
              "      <td>1661.406808</td>\n",
              "      <td>1291.761985</td>\n",
              "      <td>1094.862438</td>\n",
              "    </tr>\n",
              "    <tr>\n",
              "      <th>min</th>\n",
              "      <td>4.590000</td>\n",
              "      <td>0.000000</td>\n",
              "      <td>32.490000</td>\n",
              "      <td>33.290000</td>\n",
              "      <td>-1461.448801</td>\n",
              "      <td>-5623.805745</td>\n",
              "    </tr>\n",
              "    <tr>\n",
              "      <th>25%</th>\n",
              "      <td>8.510000</td>\n",
              "      <td>0.026934</td>\n",
              "      <td>93.093600</td>\n",
              "      <td>772.993800</td>\n",
              "      <td>1209.858607</td>\n",
              "      <td>-533.993034</td>\n",
              "    </tr>\n",
              "    <tr>\n",
              "      <th>50%</th>\n",
              "      <td>12.500000</td>\n",
              "      <td>0.053586</td>\n",
              "      <td>132.528400</td>\n",
              "      <td>1737.738000</td>\n",
              "      <td>2081.740116</td>\n",
              "      <td>88.970424</td>\n",
              "    </tr>\n",
              "    <tr>\n",
              "      <th>75%</th>\n",
              "      <td>16.700000</td>\n",
              "      <td>0.094514</td>\n",
              "      <td>181.812100</td>\n",
              "      <td>2986.113000</td>\n",
              "      <td>2998.806965</td>\n",
              "      <td>658.441454</td>\n",
              "    </tr>\n",
              "    <tr>\n",
              "      <th>max</th>\n",
              "      <td>21.350000</td>\n",
              "      <td>0.311090</td>\n",
              "      <td>266.588400</td>\n",
              "      <td>10236.675000</td>\n",
              "      <td>5649.868477</td>\n",
              "      <td>3479.679883</td>\n",
              "    </tr>\n",
              "  </tbody>\n",
              "</table>\n",
              "</div>\n",
              "      <button class=\"colab-df-convert\" onclick=\"convertToInteractive('df-d2b16a63-c13c-4dc6-a4cf-8539cd67e9e7')\"\n",
              "              title=\"Convert this dataframe to an interactive table.\"\n",
              "              style=\"display:none;\">\n",
              "        \n",
              "  <svg xmlns=\"http://www.w3.org/2000/svg\" height=\"24px\"viewBox=\"0 0 24 24\"\n",
              "       width=\"24px\">\n",
              "    <path d=\"M0 0h24v24H0V0z\" fill=\"none\"/>\n",
              "    <path d=\"M18.56 5.44l.94 2.06.94-2.06 2.06-.94-2.06-.94-.94-2.06-.94 2.06-2.06.94zm-11 1L8.5 8.5l.94-2.06 2.06-.94-2.06-.94L8.5 2.5l-.94 2.06-2.06.94zm10 10l.94 2.06.94-2.06 2.06-.94-2.06-.94-.94-2.06-.94 2.06-2.06.94z\"/><path d=\"M17.41 7.96l-1.37-1.37c-.4-.4-.92-.59-1.43-.59-.52 0-1.04.2-1.43.59L10.3 9.45l-7.72 7.72c-.78.78-.78 2.05 0 2.83L4 21.41c.39.39.9.59 1.41.59.51 0 1.02-.2 1.41-.59l7.78-7.78 2.81-2.81c.8-.78.8-2.07 0-2.86zM5.41 20L4 18.59l7.72-7.72 1.47 1.35L5.41 20z\"/>\n",
              "  </svg>\n",
              "      </button>\n",
              "      \n",
              "  <style>\n",
              "    .colab-df-container {\n",
              "      display:flex;\n",
              "      flex-wrap:wrap;\n",
              "      gap: 12px;\n",
              "    }\n",
              "\n",
              "    .colab-df-convert {\n",
              "      background-color: #E8F0FE;\n",
              "      border: none;\n",
              "      border-radius: 50%;\n",
              "      cursor: pointer;\n",
              "      display: none;\n",
              "      fill: #1967D2;\n",
              "      height: 32px;\n",
              "      padding: 0 0 0 0;\n",
              "      width: 32px;\n",
              "    }\n",
              "\n",
              "    .colab-df-convert:hover {\n",
              "      background-color: #E2EBFA;\n",
              "      box-shadow: 0px 1px 2px rgba(60, 64, 67, 0.3), 0px 1px 3px 1px rgba(60, 64, 67, 0.15);\n",
              "      fill: #174EA6;\n",
              "    }\n",
              "\n",
              "    [theme=dark] .colab-df-convert {\n",
              "      background-color: #3B4455;\n",
              "      fill: #D2E3FC;\n",
              "    }\n",
              "\n",
              "    [theme=dark] .colab-df-convert:hover {\n",
              "      background-color: #434B5C;\n",
              "      box-shadow: 0px 1px 3px 1px rgba(0, 0, 0, 0.15);\n",
              "      filter: drop-shadow(0px 1px 2px rgba(0, 0, 0, 0.3));\n",
              "      fill: #FFFFFF;\n",
              "    }\n",
              "  </style>\n",
              "\n",
              "      <script>\n",
              "        const buttonEl =\n",
              "          document.querySelector('#df-d2b16a63-c13c-4dc6-a4cf-8539cd67e9e7 button.colab-df-convert');\n",
              "        buttonEl.style.display =\n",
              "          google.colab.kernel.accessAllowed ? 'block' : 'none';\n",
              "\n",
              "        async function convertToInteractive(key) {\n",
              "          const element = document.querySelector('#df-d2b16a63-c13c-4dc6-a4cf-8539cd67e9e7');\n",
              "          const dataTable =\n",
              "            await google.colab.kernel.invokeFunction('convertToInteractive',\n",
              "                                                     [key], {});\n",
              "          if (!dataTable) return;\n",
              "\n",
              "          const docLinkHtml = 'Like what you see? Visit the ' +\n",
              "            '<a target=\"_blank\" href=https://colab.research.google.com/notebooks/data_table.ipynb>data table notebook</a>'\n",
              "            + ' to learn more about interactive tables.';\n",
              "          element.innerHTML = '';\n",
              "          dataTable['output_type'] = 'display_data';\n",
              "          await google.colab.output.renderOutput(dataTable, element);\n",
              "          const docLink = document.createElement('div');\n",
              "          docLink.innerHTML = docLinkHtml;\n",
              "          element.appendChild(docLink);\n",
              "        }\n",
              "      </script>\n",
              "    </div>\n",
              "  </div>\n",
              "  "
            ]
          },
          "metadata": {},
          "execution_count": 301
        }
      ]
    },
    {
      "cell_type": "code",
      "source": [
        "# to view error distribution plot Error column\n",
        "error_plot = sns.displot(data= prediction_df, x='Error', aspect=2)"
      ],
      "metadata": {
        "colab": {
          "base_uri": "https://localhost:8080/",
          "height": 350
        },
        "id": "0d0fMnMNJ2yY",
        "outputId": "263d97a9-e76d-414a-cabd-742dae341d1d"
      },
      "execution_count": 302,
      "outputs": [
        {
          "output_type": "display_data",
          "data": {
            "text/plain": [
              "<Figure size 720x360 with 1 Axes>"
            ],
            "image/png": "[encoded data removed]"
          },
          "metadata": {
            "needs_background": "light"
          }
        }
      ]
    },
    {
      "cell_type": "code",
      "source": [
        "prediction_df.describe()"
      ],
      "metadata": {
        "colab": {
          "base_uri": "https://localhost:8080/",
          "height": 382
        },
        "id": "G_QpvYanPT1-",
        "outputId": "f6494335-908a-4cf3-c995-c09a9fd4cff0"
      },
      "execution_count": 303,
      "outputs": [
        {
          "output_type": "execute_result",
          "data": {
            "text/plain": [
              "       Item_Weight  Item_Visibility     Item_MRP  True Item_Outlet_Sales  \\\n",
              "count  1775.000000      2131.000000  2131.000000             2131.000000   \n",
              "mean     12.718262         0.066507   138.030391             2095.231046   \n",
              "std       4.661051         0.052985    61.119147             1661.406808   \n",
              "min       4.590000         0.000000    32.490000               33.290000   \n",
              "25%       8.510000         0.026934    93.093600              772.993800   \n",
              "50%      12.500000         0.053586   132.528400             1737.738000   \n",
              "75%      16.700000         0.094514   181.812100             2986.113000   \n",
              "max      21.350000         0.311090   266.588400            10236.675000   \n",
              "\n",
              "       Predicted Item_Outlet_Sales        Error  \n",
              "count                  2131.000000  2131.000000  \n",
              "mean                   2113.440261    18.209215  \n",
              "std                    1291.761985  1094.862438  \n",
              "min                   -1461.448801 -5623.805745  \n",
              "25%                    1209.858607  -533.993034  \n",
              "50%                    2081.740116    88.970424  \n",
              "75%                    2998.806965   658.441454  \n",
              "max                    5649.868477  3479.679883  "
            ],
            "text/html": [
              "\n",
              "  <div id=\"df-3d390004-9d32-4eeb-96ff-61378587fde8\">\n",
              "    <div class=\"colab-df-container\">\n",
              "      <div>\n",
              "<style scoped>\n",
              "    .dataframe tbody tr th:only-of-type {\n",
              "        vertical-align: middle;\n",
              "    }\n",
              "\n",
              "    .dataframe tbody tr th {\n",
              "        vertical-align: top;\n",
              "    }\n",
              "\n",
              "    .dataframe thead th {\n",
              "        text-align: right;\n",
              "    }\n",
              "</style>\n",
              "<table border=\"1\" class=\"dataframe\">\n",
              "  <thead>\n",
              "    <tr style=\"text-align: right;\">\n",
              "      <th></th>\n",
              "      <th>Item_Weight</th>\n",
              "      <th>Item_Visibility</th>\n",
              "      <th>Item_MRP</th>\n",
              "      <th>True Item_Outlet_Sales</th>\n",
              "      <th>Predicted Item_Outlet_Sales</th>\n",
              "      <th>Error</th>\n",
              "    </tr>\n",
              "  </thead>\n",
              "  <tbody>\n",
              "    <tr>\n",
              "      <th>count</th>\n",
              "      <td>1775.000000</td>\n",
              "      <td>2131.000000</td>\n",
              "      <td>2131.000000</td>\n",
              "      <td>2131.000000</td>\n",
              "      <td>2131.000000</td>\n",
              "      <td>2131.000000</td>\n",
              "    </tr>\n",
              "    <tr>\n",
              "      <th>mean</th>\n",
              "      <td>12.718262</td>\n",
              "      <td>0.066507</td>\n",
              "      <td>138.030391</td>\n",
              "      <td>2095.231046</td>\n",
              "      <td>2113.440261</td>\n",
              "      <td>18.209215</td>\n",
              "    </tr>\n",
              "    <tr>\n",
              "      <th>std</th>\n",
              "      <td>4.661051</td>\n",
              "      <td>0.052985</td>\n",
              "      <td>61.119147</td>\n",
              "      <td>1661.406808</td>\n",
              "      <td>1291.761985</td>\n",
              "      <td>1094.862438</td>\n",
              "    </tr>\n",
              "    <tr>\n",
              "      <th>min</th>\n",
              "      <td>4.590000</td>\n",
              "      <td>0.000000</td>\n",
              "      <td>32.490000</td>\n",
              "      <td>33.290000</td>\n",
              "      <td>-1461.448801</td>\n",
              "      <td>-5623.805745</td>\n",
              "    </tr>\n",
              "    <tr>\n",
              "      <th>25%</th>\n",
              "      <td>8.510000</td>\n",
              "      <td>0.026934</td>\n",
              "      <td>93.093600</td>\n",
              "      <td>772.993800</td>\n",
              "      <td>1209.858607</td>\n",
              "      <td>-533.993034</td>\n",
              "    </tr>\n",
              "    <tr>\n",
              "      <th>50%</th>\n",
              "      <td>12.500000</td>\n",
              "      <td>0.053586</td>\n",
              "      <td>132.528400</td>\n",
              "      <td>1737.738000</td>\n",
              "      <td>2081.740116</td>\n",
              "      <td>88.970424</td>\n",
              "    </tr>\n",
              "    <tr>\n",
              "      <th>75%</th>\n",
              "      <td>16.700000</td>\n",
              "      <td>0.094514</td>\n",
              "      <td>181.812100</td>\n",
              "      <td>2986.113000</td>\n",
              "      <td>2998.806965</td>\n",
              "      <td>658.441454</td>\n",
              "    </tr>\n",
              "    <tr>\n",
              "      <th>max</th>\n",
              "      <td>21.350000</td>\n",
              "      <td>0.311090</td>\n",
              "      <td>266.588400</td>\n",
              "      <td>10236.675000</td>\n",
              "      <td>5649.868477</td>\n",
              "      <td>3479.679883</td>\n",
              "    </tr>\n",
              "  </tbody>\n",
              "</table>\n",
              "</div>\n",
              "      <button class=\"colab-df-convert\" onclick=\"convertToInteractive('df-3d390004-9d32-4eeb-96ff-61378587fde8')\"\n",
              "              title=\"Convert this dataframe to an interactive table.\"\n",
              "              style=\"display:none;\">\n",
              "        \n",
              "  <svg xmlns=\"http://www.w3.org/2000/svg\" height=\"24px\"viewBox=\"0 0 24 24\"\n",
              "       width=\"24px\">\n",
              "    <path d=\"M0 0h24v24H0V0z\" fill=\"none\"/>\n",
              "    <path d=\"M18.56 5.44l.94 2.06.94-2.06 2.06-.94-2.06-.94-.94-2.06-.94 2.06-2.06.94zm-11 1L8.5 8.5l.94-2.06 2.06-.94-2.06-.94L8.5 2.5l-.94 2.06-2.06.94zm10 10l.94 2.06.94-2.06 2.06-.94-2.06-.94-.94-2.06-.94 2.06-2.06.94z\"/><path d=\"M17.41 7.96l-1.37-1.37c-.4-.4-.92-.59-1.43-.59-.52 0-1.04.2-1.43.59L10.3 9.45l-7.72 7.72c-.78.78-.78 2.05 0 2.83L4 21.41c.39.39.9.59 1.41.59.51 0 1.02-.2 1.41-.59l7.78-7.78 2.81-2.81c.8-.78.8-2.07 0-2.86zM5.41 20L4 18.59l7.72-7.72 1.47 1.35L5.41 20z\"/>\n",
              "  </svg>\n",
              "      </button>\n",
              "      \n",
              "  <style>\n",
              "    .colab-df-container {\n",
              "      display:flex;\n",
              "      flex-wrap:wrap;\n",
              "      gap: 12px;\n",
              "    }\n",
              "\n",
              "    .colab-df-convert {\n",
              "      background-color: #E8F0FE;\n",
              "      border: none;\n",
              "      border-radius: 50%;\n",
              "      cursor: pointer;\n",
              "      display: none;\n",
              "      fill: #1967D2;\n",
              "      height: 32px;\n",
              "      padding: 0 0 0 0;\n",
              "      width: 32px;\n",
              "    }\n",
              "\n",
              "    .colab-df-convert:hover {\n",
              "      background-color: #E2EBFA;\n",
              "      box-shadow: 0px 1px 2px rgba(60, 64, 67, 0.3), 0px 1px 3px 1px rgba(60, 64, 67, 0.15);\n",
              "      fill: #174EA6;\n",
              "    }\n",
              "\n",
              "    [theme=dark] .colab-df-convert {\n",
              "      background-color: #3B4455;\n",
              "      fill: #D2E3FC;\n",
              "    }\n",
              "\n",
              "    [theme=dark] .colab-df-convert:hover {\n",
              "      background-color: #434B5C;\n",
              "      box-shadow: 0px 1px 3px 1px rgba(0, 0, 0, 0.15);\n",
              "      filter: drop-shadow(0px 1px 2px rgba(0, 0, 0, 0.3));\n",
              "      fill: #FFFFFF;\n",
              "    }\n",
              "  </style>\n",
              "\n",
              "      <script>\n",
              "        const buttonEl =\n",
              "          document.querySelector('#df-3d390004-9d32-4eeb-96ff-61378587fde8 button.colab-df-convert');\n",
              "        buttonEl.style.display =\n",
              "          google.colab.kernel.accessAllowed ? 'block' : 'none';\n",
              "\n",
              "        async function convertToInteractive(key) {\n",
              "          const element = document.querySelector('#df-3d390004-9d32-4eeb-96ff-61378587fde8');\n",
              "          const dataTable =\n",
              "            await google.colab.kernel.invokeFunction('convertToInteractive',\n",
              "                                                     [key], {});\n",
              "          if (!dataTable) return;\n",
              "\n",
              "          const docLinkHtml = 'Like what you see? Visit the ' +\n",
              "            '<a target=\"_blank\" href=https://colab.research.google.com/notebooks/data_table.ipynb>data table notebook</a>'\n",
              "            + ' to learn more about interactive tables.';\n",
              "          element.innerHTML = '';\n",
              "          dataTable['output_type'] = 'display_data';\n",
              "          await google.colab.output.renderOutput(dataTable, element);\n",
              "          const docLink = document.createElement('div');\n",
              "          docLink.innerHTML = docLinkHtml;\n",
              "          element.appendChild(docLink);\n",
              "        }\n",
              "      </script>\n",
              "    </div>\n",
              "  </div>\n",
              "  "
            ]
          },
          "metadata": {},
          "execution_count": 303
        }
      ]
    },
    {
      "cell_type": "markdown",
      "source": [
        "As we can see in the plot, with linear regression model there is a tendency to make large errors. We can see in prediction_df.describe() a lot of variation. The mean error is 18 but max is 3479 and min -5623. \n"
      ],
      "metadata": {
        "id": "_9kLE0wSO5m-"
      }
    },
    {
      "cell_type": "markdown",
      "source": [
        "## Evaluate the performance of your model based on r^2."
      ],
      "metadata": {
        "id": "NA5hRad-LorX"
      }
    },
    {
      "cell_type": "code",
      "source": [
        "train_r2 = r2_score(y_train, train_pred_linear)\n",
        "test_r2 = r2_score(y_test, test_pred_linear)\n",
        "\n",
        "print(f'Model Training R2: {train_r2}')\n",
        "print(f'Model Testing R2: {test_r2}')\n"
      ],
      "metadata": {
        "colab": {
          "base_uri": "https://localhost:8080/"
        },
        "id": "wqSF2rd7L2wP",
        "outputId": "df9c2168-a7c8-4943-d3b0-c52c7e79e749"
      },
      "execution_count": 304,
      "outputs": [
        {
          "output_type": "stream",
          "name": "stdout",
          "text": [
            "Model Training R2: 0.5606153870287736\n",
            "Model Testing R2: 0.5656025072798097\n"
          ]
        }
      ]
    },
    {
      "cell_type": "markdown",
      "source": [
        "This score can be interpreted as saying that linear regression model can account for about 56% of the variation in y_test using the features in X_test. This model is underfit."
      ],
      "metadata": {
        "id": "d-_AeCuwOpFI"
      }
    },
    {
      "cell_type": "markdown",
      "source": [
        "## Evaluate the Model Using Regression Metrics\n"
      ],
      "metadata": {
        "id": "E6dc2NoPSIUe"
      }
    },
    {
      "cell_type": "code",
      "source": [
        "# I will test different models so let's create a function \n",
        "# to take MAE, MSE, RMSE, and R2 metrics\n",
        "def evaluate_regression(y_true, y_pred):\n",
        "  \"\"\"Takes true target and predicted target and prints MAE, MSE, RMSE and R2\"\"\"\n",
        "  \n",
        "  mae = mean_absolute_error(y_true, y_pred)\n",
        "  mse = mean_squared_error(y_true, y_pred)\n",
        "  rmse = np.sqrt(mse)\n",
        "  r2 = r2_score(y_true, y_pred)\n",
        "\n",
        "  print(f'scores: \\nMAE: {mae:,.2f} \\nMSE: {mse:,.2f} \\nRMSE: {rmse:,.2f} \\nR2: {r2:.2f}')"
      ],
      "metadata": {
        "id": "E4Tzo9n-OEbc"
      },
      "execution_count": 305,
      "outputs": []
    },
    {
      "cell_type": "code",
      "source": [
        "print('Testing')\n",
        "# call the function\n",
        "evaluate_regression(y_test, test_pred_linear)\n"
      ],
      "metadata": {
        "colab": {
          "base_uri": "https://localhost:8080/"
        },
        "id": "NYxM6GdxIFok",
        "outputId": "343f0a3b-9e12-4f94-a7e4-92d2e1433e94"
      },
      "execution_count": 306,
      "outputs": [
        {
          "output_type": "stream",
          "name": "stdout",
          "text": [
            "Testing\n",
            "scores: \n",
            "MAE: 805.86 \n",
            "MSE: 1,198,492.82 \n",
            "RMSE: 1,094.76 \n",
            "R2: 0.57\n"
          ]
        }
      ]
    },
    {
      "cell_type": "code",
      "source": [
        "print('Training')\n",
        "evaluate_regression(y_train, train_pred_linear)"
      ],
      "metadata": {
        "colab": {
          "base_uri": "https://localhost:8080/"
        },
        "id": "ichglJrmIdLV",
        "outputId": "7d8806a6-35e8-4cd7-e411-f822760b0d0c"
      },
      "execution_count": 307,
      "outputs": [
        {
          "output_type": "stream",
          "name": "stdout",
          "text": [
            "Training\n",
            "scores: \n",
            "MAE: 847.26 \n",
            "MSE: 1,300,339.30 \n",
            "RMSE: 1,140.32 \n",
            "R2: 0.56\n"
          ]
        }
      ]
    },
    {
      "cell_type": "markdown",
      "source": [
        "It is better to use RMSE since we see in error plot, there is a tendency to make large errors and the RMSE is punishing those larger errors with a worse score if we compare with MAE. \n",
        "\n"
      ],
      "metadata": {
        "id": "kyKqw390FRck"
      }
    },
    {
      "cell_type": "markdown",
      "source": [
        "# 2- Second task is to build a regression tree model to predict sales.\n",
        "\n"
      ],
      "metadata": {
        "id": "BOaZrLUUHvob"
      }
    },
    {
      "cell_type": "markdown",
      "source": [
        "## Decision Tree Regressor"
      ],
      "metadata": {
        "id": "Fw99peO1Jn3b"
      }
    },
    {
      "cell_type": "code",
      "source": [
        "# instantiate a model\n",
        "dec_tree = DecisionTreeRegressor(random_state = 42)"
      ],
      "metadata": {
        "id": "I7j1N7ewup9y"
      },
      "execution_count": 308,
      "outputs": []
    },
    {
      "cell_type": "code",
      "source": [
        "# put the model in pipeline\n",
        "# tree-based models do not required scaled data, but I will use the same preprecessor for all model \n",
        "dec_tree_pipe = make_pipeline(preprocessor, dec_tree)"
      ],
      "metadata": {
        "id": "sodWDjaPvF-j"
      },
      "execution_count": 309,
      "outputs": []
    },
    {
      "cell_type": "code",
      "source": [
        "# fit the model on the training data\n",
        "dec_tree_pipe.fit(X_train, y_train)"
      ],
      "metadata": {
        "colab": {
          "base_uri": "https://localhost:8080/",
          "height": 227
        },
        "id": "Xdb1nLTRvbm6",
        "outputId": "ba4e1b9e-1aa4-4ec6-951f-5b7c2c80edc6"
      },
      "execution_count": 310,
      "outputs": [
        {
          "output_type": "execute_result",
          "data": {
            "text/plain": [
              "Pipeline(steps=[('columntransformer',\n",
              "                 ColumnTransformer(remainder='passthrough',\n",
              "                                   transformers=[('pipeline-1',\n",
              "                                                  Pipeline(steps=[('simpleimputer',\n",
              "                                                                   SimpleImputer()),\n",
              "                                                                  ('standardscaler',\n",
              "                                                                   StandardScaler())]),\n",
              "                                                  <sklearn.compose._column_transformer.make_column_selector object at 0x7fd285cbc650>),\n",
              "                                                 ('pipeline-2',\n",
              "                                                  Pipeline(steps=[('simpleimputer',\n",
              "                                                                   SimpleImputer(strategy='most_frequent')),\n",
              "                                                                  ('onehotencoder',\n",
              "                                                                   OneHotEncoder(handle_unknown='ignore',\n",
              "                                                                                 sparse=False))]),\n",
              "                                                  <sklearn.compose._column_transformer.make_column_selector object at 0x7fd285cbc450>)])),\n",
              "                ('decisiontreeregressor',\n",
              "                 DecisionTreeRegressor(random_state=42))])"
            ],
            "text/html": [
              "<style>#sk-f65569df-cf93-4457-8a22-94bb9d5ee041 {color: black;background-color: white;}#sk-f65569df-cf93-4457-8a22-94bb9d5ee041 pre{padding: 0;}#sk-f65569df-cf93-4457-8a22-94bb9d5ee041 div.sk-toggleable {background-color: white;}#sk-f65569df-cf93-4457-8a22-94bb9d5ee041 label.sk-toggleable__label {cursor: pointer;display: block;width: 100%;margin-bottom: 0;padding: 0.3em;box-sizing: border-box;text-align: center;}#sk-f65569df-cf93-4457-8a22-94bb9d5ee041 label.sk-toggleable__label-arrow:before {content: \"▸\";float: left;margin-right: 0.25em;color: #696969;}#sk-f65569df-cf93-4457-8a22-94bb9d5ee041 label.sk-toggleable__label-arrow:hover:before {color: black;}#sk-f65569df-cf93-4457-8a22-94bb9d5ee041 div.sk-estimator:hover label.sk-toggleable__label-arrow:before {color: black;}#sk-f65569df-cf93-4457-8a22-94bb9d5ee041 div.sk-toggleable__content {max-height: 0;max-width: 0;overflow: hidden;text-align: left;background-color: #f0f8ff;}#sk-f65569df-cf93-4457-8a22-94bb9d5ee041 div.sk-toggleable__content pre {margin: 0.2em;color: black;border-radius: 0.25em;background-color: #f0f8ff;}#sk-f65569df-cf93-4457-8a22-94bb9d5ee041 input.sk-toggleable__control:checked~div.sk-toggleable__content {max-height: 200px;max-width: 100%;overflow: auto;}#sk-f65569df-cf93-4457-8a22-94bb9d5ee041 input.sk-toggleable__control:checked~label.sk-toggleable__label-arrow:before {content: \"▾\";}#sk-f65569df-cf93-4457-8a22-94bb9d5ee041 div.sk-estimator input.sk-toggleable__control:checked~label.sk-toggleable__label {background-color: #d4ebff;}#sk-f65569df-cf93-4457-8a22-94bb9d5ee041 div.sk-label input.sk-toggleable__control:checked~label.sk-toggleable__label {background-color: #d4ebff;}#sk-f65569df-cf93-4457-8a22-94bb9d5ee041 input.sk-hidden--visually {border: 0;clip: rect(1px 1px 1px 1px);clip: rect(1px, 1px, 1px, 1px);height: 1px;margin: -1px;overflow: hidden;padding: 0;position: absolute;width: 1px;}#sk-f65569df-cf93-4457-8a22-94bb9d5ee041 div.sk-estimator {font-family: monospace;background-color: #f0f8ff;border: 1px dotted black;border-radius: 0.25em;box-sizing: border-box;margin-bottom: 0.5em;}#sk-f65569df-cf93-4457-8a22-94bb9d5ee041 div.sk-estimator:hover {background-color: #d4ebff;}#sk-f65569df-cf93-4457-8a22-94bb9d5ee041 div.sk-parallel-item::after {content: \"\";width: 100%;border-bottom: 1px solid gray;flex-grow: 1;}#sk-f65569df-cf93-4457-8a22-94bb9d5ee041 div.sk-label:hover label.sk-toggleable__label {background-color: #d4ebff;}#sk-f65569df-cf93-4457-8a22-94bb9d5ee041 div.sk-serial::before {content: \"\";position: absolute;border-left: 1px solid gray;box-sizing: border-box;top: 2em;bottom: 0;left: 50%;}#sk-f65569df-cf93-4457-8a22-94bb9d5ee041 div.sk-serial {display: flex;flex-direction: column;align-items: center;background-color: white;padding-right: 0.2em;padding-left: 0.2em;}#sk-f65569df-cf93-4457-8a22-94bb9d5ee041 div.sk-item {z-index: 1;}#sk-f65569df-cf93-4457-8a22-94bb9d5ee041 div.sk-parallel {display: flex;align-items: stretch;justify-content: center;background-color: white;}#sk-f65569df-cf93-4457-8a22-94bb9d5ee041 div.sk-parallel::before {content: \"\";position: absolute;border-left: 1px solid gray;box-sizing: border-box;top: 2em;bottom: 0;left: 50%;}#sk-f65569df-cf93-4457-8a22-94bb9d5ee041 div.sk-parallel-item {display: flex;flex-direction: column;position: relative;background-color: white;}#sk-f65569df-cf93-4457-8a22-94bb9d5ee041 div.sk-parallel-item:first-child::after {align-self: flex-end;width: 50%;}#sk-f65569df-cf93-4457-8a22-94bb9d5ee041 div.sk-parallel-item:last-child::after {align-self: flex-start;width: 50%;}#sk-f65569df-cf93-4457-8a22-94bb9d5ee041 div.sk-parallel-item:only-child::after {width: 0;}#sk-f65569df-cf93-4457-8a22-94bb9d5ee041 div.sk-dashed-wrapped {border: 1px dashed gray;margin: 0 0.4em 0.5em 0.4em;box-sizing: border-box;padding-bottom: 0.4em;background-color: white;position: relative;}#sk-f65569df-cf93-4457-8a22-94bb9d5ee041 div.sk-label label {font-family: monospace;font-weight: bold;background-color: white;display: inline-block;line-height: 1.2em;}#sk-f65569df-cf93-4457-8a22-94bb9d5ee041 div.sk-label-container {position: relative;z-index: 2;text-align: center;}#sk-f65569df-cf93-4457-8a22-94bb9d5ee041 div.sk-container {/* jupyter's `normalize.less` sets `[hidden] { display: none; }` but bootstrap.min.css set `[hidden] { display: none !important; }` so we also need the `!important` here to be able to override the default hidden behavior on the sphinx rendered scikit-learn.org. See: https://github.com/scikit-learn/scikit-learn/issues/21755 */display: inline-block !important;position: relative;}#sk-f65569df-cf93-4457-8a22-94bb9d5ee041 div.sk-text-repr-fallback {display: none;}</style><div id=\"sk-f65569df-cf93-4457-8a22-94bb9d5ee041\" class=\"sk-top-container\"><div class=\"sk-text-repr-fallback\"><pre>Pipeline(steps=[(&#x27;columntransformer&#x27;,\n",
              "                 ColumnTransformer(remainder=&#x27;passthrough&#x27;,\n",
              "                                   transformers=[(&#x27;pipeline-1&#x27;,\n",
              "                                                  Pipeline(steps=[(&#x27;simpleimputer&#x27;,\n",
              "                                                                   SimpleImputer()),\n",
              "                                                                  (&#x27;standardscaler&#x27;,\n",
              "                                                                   StandardScaler())]),\n",
              "                                                  &lt;sklearn.compose._column_transformer.make_column_selector object at 0x7fd285cbc650&gt;),\n",
              "                                                 (&#x27;pipeline-2&#x27;,\n",
              "                                                  Pipeline(steps=[(&#x27;simpleimputer&#x27;,\n",
              "                                                                   SimpleImputer(strategy=&#x27;most_frequent&#x27;)),\n",
              "                                                                  (&#x27;onehotencoder&#x27;,\n",
              "                                                                   OneHotEncoder(handle_unknown=&#x27;ignore&#x27;,\n",
              "                                                                                 sparse=False))]),\n",
              "                                                  &lt;sklearn.compose._column_transformer.make_column_selector object at 0x7fd285cbc450&gt;)])),\n",
              "                (&#x27;decisiontreeregressor&#x27;,\n",
              "                 DecisionTreeRegressor(random_state=42))])</pre><b>Please rerun this cell to show the HTML repr or trust the notebook.</b></div><div class=\"sk-container\" hidden><div class=\"sk-item sk-dashed-wrapped\"><div class=\"sk-label-container\"><div class=\"sk-label sk-toggleable\"><input class=\"sk-toggleable__control sk-hidden--visually\" id=\"b1aa67a5-3c34-46a5-a7a2-f034352fb807\" type=\"checkbox\" ><label for=\"b1aa67a5-3c34-46a5-a7a2-f034352fb807\" class=\"sk-toggleable__label sk-toggleable__label-arrow\">Pipeline</label><div class=\"sk-toggleable__content\"><pre>Pipeline(steps=[(&#x27;columntransformer&#x27;,\n",
              "                 ColumnTransformer(remainder=&#x27;passthrough&#x27;,\n",
              "                                   transformers=[(&#x27;pipeline-1&#x27;,\n",
              "                                                  Pipeline(steps=[(&#x27;simpleimputer&#x27;,\n",
              "                                                                   SimpleImputer()),\n",
              "                                                                  (&#x27;standardscaler&#x27;,\n",
              "                                                                   StandardScaler())]),\n",
              "                                                  &lt;sklearn.compose._column_transformer.make_column_selector object at 0x7fd285cbc650&gt;),\n",
              "                                                 (&#x27;pipeline-2&#x27;,\n",
              "                                                  Pipeline(steps=[(&#x27;simpleimputer&#x27;,\n",
              "                                                                   SimpleImputer(strategy=&#x27;most_frequent&#x27;)),\n",
              "                                                                  (&#x27;onehotencoder&#x27;,\n",
              "                                                                   OneHotEncoder(handle_unknown=&#x27;ignore&#x27;,\n",
              "                                                                                 sparse=False))]),\n",
              "                                                  &lt;sklearn.compose._column_transformer.make_column_selector object at 0x7fd285cbc450&gt;)])),\n",
              "                (&#x27;decisiontreeregressor&#x27;,\n",
              "                 DecisionTreeRegressor(random_state=42))])</pre></div></div></div><div class=\"sk-serial\"><div class=\"sk-item sk-dashed-wrapped\"><div class=\"sk-label-container\"><div class=\"sk-label sk-toggleable\"><input class=\"sk-toggleable__control sk-hidden--visually\" id=\"a38980b7-4950-400c-af6d-85b05bac496a\" type=\"checkbox\" ><label for=\"a38980b7-4950-400c-af6d-85b05bac496a\" class=\"sk-toggleable__label sk-toggleable__label-arrow\">columntransformer: ColumnTransformer</label><div class=\"sk-toggleable__content\"><pre>ColumnTransformer(remainder=&#x27;passthrough&#x27;,\n",
              "                  transformers=[(&#x27;pipeline-1&#x27;,\n",
              "                                 Pipeline(steps=[(&#x27;simpleimputer&#x27;,\n",
              "                                                  SimpleImputer()),\n",
              "                                                 (&#x27;standardscaler&#x27;,\n",
              "                                                  StandardScaler())]),\n",
              "                                 &lt;sklearn.compose._column_transformer.make_column_selector object at 0x7fd285cbc650&gt;),\n",
              "                                (&#x27;pipeline-2&#x27;,\n",
              "                                 Pipeline(steps=[(&#x27;simpleimputer&#x27;,\n",
              "                                                  SimpleImputer(strategy=&#x27;most_frequent&#x27;)),\n",
              "                                                 (&#x27;onehotencoder&#x27;,\n",
              "                                                  OneHotEncoder(handle_unknown=&#x27;ignore&#x27;,\n",
              "                                                                sparse=False))]),\n",
              "                                 &lt;sklearn.compose._column_transformer.make_column_selector object at 0x7fd285cbc450&gt;)])</pre></div></div></div><div class=\"sk-parallel\"><div class=\"sk-parallel-item\"><div class=\"sk-item\"><div class=\"sk-label-container\"><div class=\"sk-label sk-toggleable\"><input class=\"sk-toggleable__control sk-hidden--visually\" id=\"dd371896-100d-4fb1-a61e-0e00a5063463\" type=\"checkbox\" ><label for=\"dd371896-100d-4fb1-a61e-0e00a5063463\" class=\"sk-toggleable__label sk-toggleable__label-arrow\">pipeline-1</label><div class=\"sk-toggleable__content\"><pre>&lt;sklearn.compose._column_transformer.make_column_selector object at 0x7fd285cbc650&gt;</pre></div></div></div><div class=\"sk-serial\"><div class=\"sk-item\"><div class=\"sk-serial\"><div class=\"sk-item\"><div class=\"sk-estimator sk-toggleable\"><input class=\"sk-toggleable__control sk-hidden--visually\" id=\"af4325cb-3032-486f-af00-b48c1deca10f\" type=\"checkbox\" ><label for=\"af4325cb-3032-486f-af00-b48c1deca10f\" class=\"sk-toggleable__label sk-toggleable__label-arrow\">SimpleImputer</label><div class=\"sk-toggleable__content\"><pre>SimpleImputer()</pre></div></div></div><div class=\"sk-item\"><div class=\"sk-estimator sk-toggleable\"><input class=\"sk-toggleable__control sk-hidden--visually\" id=\"20cac696-ffdd-4ac7-83b2-698a0cbb9639\" type=\"checkbox\" ><label for=\"20cac696-ffdd-4ac7-83b2-698a0cbb9639\" class=\"sk-toggleable__label sk-toggleable__label-arrow\">StandardScaler</label><div class=\"sk-toggleable__content\"><pre>StandardScaler()</pre></div></div></div></div></div></div></div></div><div class=\"sk-parallel-item\"><div class=\"sk-item\"><div class=\"sk-label-container\"><div class=\"sk-label sk-toggleable\"><input class=\"sk-toggleable__control sk-hidden--visually\" id=\"e7b9c782-f699-41c2-a672-7f85e4aaa219\" type=\"checkbox\" ><label for=\"e7b9c782-f699-41c2-a672-7f85e4aaa219\" class=\"sk-toggleable__label sk-toggleable__label-arrow\">pipeline-2</label><div class=\"sk-toggleable__content\"><pre>&lt;sklearn.compose._column_transformer.make_column_selector object at 0x7fd285cbc450&gt;</pre></div></div></div><div class=\"sk-serial\"><div class=\"sk-item\"><div class=\"sk-serial\"><div class=\"sk-item\"><div class=\"sk-estimator sk-toggleable\"><input class=\"sk-toggleable__control sk-hidden--visually\" id=\"ad5d3597-0902-4a10-96b2-31d92561a775\" type=\"checkbox\" ><label for=\"ad5d3597-0902-4a10-96b2-31d92561a775\" class=\"sk-toggleable__label sk-toggleable__label-arrow\">SimpleImputer</label><div class=\"sk-toggleable__content\"><pre>SimpleImputer(strategy=&#x27;most_frequent&#x27;)</pre></div></div></div><div class=\"sk-item\"><div class=\"sk-estimator sk-toggleable\"><input class=\"sk-toggleable__control sk-hidden--visually\" id=\"4c07d319-7af1-42aa-b1b4-2dd3e7c1867c\" type=\"checkbox\" ><label for=\"4c07d319-7af1-42aa-b1b4-2dd3e7c1867c\" class=\"sk-toggleable__label sk-toggleable__label-arrow\">OneHotEncoder</label><div class=\"sk-toggleable__content\"><pre>OneHotEncoder(handle_unknown=&#x27;ignore&#x27;, sparse=False)</pre></div></div></div></div></div></div></div></div><div class=\"sk-parallel-item\"><div class=\"sk-item\"><div class=\"sk-label-container\"><div class=\"sk-label sk-toggleable\"><input class=\"sk-toggleable__control sk-hidden--visually\" id=\"bdf016d7-a625-4e66-a5c1-da4607ffa13f\" type=\"checkbox\" ><label for=\"bdf016d7-a625-4e66-a5c1-da4607ffa13f\" class=\"sk-toggleable__label sk-toggleable__label-arrow\">remainder</label><div class=\"sk-toggleable__content\"><pre>[]</pre></div></div></div><div class=\"sk-serial\"><div class=\"sk-item\"><div class=\"sk-estimator sk-toggleable\"><input class=\"sk-toggleable__control sk-hidden--visually\" id=\"d39d085e-b0ee-47b1-805f-6230e3a1bd22\" type=\"checkbox\" ><label for=\"d39d085e-b0ee-47b1-805f-6230e3a1bd22\" class=\"sk-toggleable__label sk-toggleable__label-arrow\">passthrough</label><div class=\"sk-toggleable__content\"><pre>passthrough</pre></div></div></div></div></div></div></div></div><div class=\"sk-item\"><div class=\"sk-estimator sk-toggleable\"><input class=\"sk-toggleable__control sk-hidden--visually\" id=\"105719b9-6690-40c5-9edb-f9ad93270030\" type=\"checkbox\" ><label for=\"105719b9-6690-40c5-9edb-f9ad93270030\" class=\"sk-toggleable__label sk-toggleable__label-arrow\">DecisionTreeRegressor</label><div class=\"sk-toggleable__content\"><pre>DecisionTreeRegressor(random_state=42)</pre></div></div></div></div></div></div></div>"
            ]
          },
          "metadata": {},
          "execution_count": 310
        }
      ]
    },
    {
      "cell_type": "code",
      "source": [
        "# find predict values, and error values \n",
        "train_pred_dec_tree = dec_tree_pipe.predict(X_train)\n",
        "test_pred_dec_tree = dec_tree_pipe.predict(X_test) # these are predict values \n",
        "# check predict Item_Outlet_Sales\n",
        "test_pred_dec_tree"
      ],
      "metadata": {
        "colab": {
          "base_uri": "https://localhost:8080/"
        },
        "id": "qUHMJOwZwh8S",
        "outputId": "e7621a78-d2d1-404a-cced-8afc853df1db"
      },
      "execution_count": 311,
      "outputs": [
        {
          "output_type": "execute_result",
          "data": {
            "text/plain": [
              "array([ 805.618 , 1249.0408,  479.376 , ..., 6371.706 , 3243.7776,\n",
              "       3089.9778])"
            ]
          },
          "metadata": {},
          "execution_count": 311
        }
      ]
    },
    {
      "cell_type": "code",
      "source": [
        "# call the function \n",
        "# Testing _score\n",
        "print('Testing')\n",
        "evaluate_regression(y_test, test_pred_dec_tree)\n"
      ],
      "metadata": {
        "colab": {
          "base_uri": "https://localhost:8080/"
        },
        "id": "JwMHBMoBw3-i",
        "outputId": "36b9c6a4-4d27-4cfc-de47-fb69dac245bf"
      },
      "execution_count": 312,
      "outputs": [
        {
          "output_type": "stream",
          "name": "stdout",
          "text": [
            "Testing\n",
            "scores: \n",
            "MAE: 1,073.31 \n",
            "MSE: 2,443,733.95 \n",
            "RMSE: 1,563.24 \n",
            "R2: 0.11\n"
          ]
        }
      ]
    },
    {
      "cell_type": "code",
      "source": [
        "# training score\n",
        "print('Training')\n",
        "evaluate_regression(y_train, train_pred_dec_tree)\n",
        "\n"
      ],
      "metadata": {
        "colab": {
          "base_uri": "https://localhost:8080/"
        },
        "id": "XJWbe72lxkdK",
        "outputId": "38e55024-38fd-4b68-fe55-33d011431949"
      },
      "execution_count": 313,
      "outputs": [
        {
          "output_type": "stream",
          "name": "stdout",
          "text": [
            "Training\n",
            "scores: \n",
            "MAE: 0.00 \n",
            "MSE: 0.00 \n",
            "RMSE: 0.00 \n",
            "R2: 1.00\n"
          ]
        }
      ]
    },
    {
      "cell_type": "markdown",
      "source": [
        "Decision Tree Model is overfit since the score of trainig is 100% and testing is only 11%. Let's try RandonForest Model "
      ],
      "metadata": {
        "id": "lTzz8X3IyjZ6"
      }
    },
    {
      "cell_type": "markdown",
      "source": [
        "## Randon Forest"
      ],
      "metadata": {
        "id": "8sMVnhxUy6lJ"
      }
    },
    {
      "cell_type": "code",
      "source": [
        "rf = RandomForestRegressor(random_state = 42)\n",
        "\n",
        "tree_reg_pipe_rf = make_pipeline(preprocessor, rf)\n",
        "tree_reg_pipe_rf.fit(X_train, y_train)\n",
        "train_pred_tree_rf = tree_reg_pipe_rf.predict(X_train)\n",
        "test_pred_tree_rf = tree_reg_pipe_rf.predict(X_test)\n",
        "\n",
        "print('Testing')\n",
        "evaluate_regression(y_test, test_pred_tree_rf)"
      ],
      "metadata": {
        "colab": {
          "base_uri": "https://localhost:8080/"
        },
        "id": "QdX-Po1j6P4v",
        "outputId": "b02bc7dd-e060-4ff4-94d0-ce6c08b9fc37"
      },
      "execution_count": 314,
      "outputs": [
        {
          "output_type": "stream",
          "name": "stdout",
          "text": [
            "Testing\n",
            "scores: \n",
            "MAE: 774.20 \n",
            "MSE: 1,249,818.91 \n",
            "RMSE: 1,117.95 \n",
            "R2: 0.55\n"
          ]
        }
      ]
    },
    {
      "cell_type": "code",
      "source": [
        "print('Training')\n",
        "evaluate_regression(y_train, train_pred_tree_rf)"
      ],
      "metadata": {
        "colab": {
          "base_uri": "https://localhost:8080/"
        },
        "id": "jjDgvovo1JVW",
        "outputId": "23215653-ecdf-40d2-b4da-279e9a999420"
      },
      "execution_count": 315,
      "outputs": [
        {
          "output_type": "stream",
          "name": "stdout",
          "text": [
            "Training\n",
            "scores: \n",
            "MAE: 300.25 \n",
            "MSE: 186,911.66 \n",
            "RMSE: 432.33 \n",
            "R2: 0.94\n"
          ]
        }
      ]
    },
    {
      "cell_type": "markdown",
      "source": [
        "With Random Forest the R2 in training dataset is 55%, better than Decision Tree model that was 11% but it is not good. We can try to tunne it.  "
      ],
      "metadata": {
        "id": "VSKedj0N1dYA"
      }
    },
    {
      "cell_type": "markdown",
      "source": [
        "### Tree Tunning a RandomForest"
      ],
      "metadata": {
        "id": "39ofn4CwQonC"
      }
    },
    {
      "cell_type": "code",
      "source": [
        "rf.get_params()"
      ],
      "metadata": {
        "colab": {
          "base_uri": "https://localhost:8080/"
        },
        "id": "ufp91zhN30xo",
        "outputId": "ca8e0386-a828-4b18-bb53-f5943148a8a1"
      },
      "execution_count": 316,
      "outputs": [
        {
          "output_type": "execute_result",
          "data": {
            "text/plain": [
              "{'bootstrap': True,\n",
              " 'ccp_alpha': 0.0,\n",
              " 'criterion': 'squared_error',\n",
              " 'max_depth': None,\n",
              " 'max_features': 'auto',\n",
              " 'max_leaf_nodes': None,\n",
              " 'max_samples': None,\n",
              " 'min_impurity_decrease': 0.0,\n",
              " 'min_samples_leaf': 1,\n",
              " 'min_samples_split': 2,\n",
              " 'min_weight_fraction_leaf': 0.0,\n",
              " 'n_estimators': 100,\n",
              " 'n_jobs': None,\n",
              " 'oob_score': False,\n",
              " 'random_state': 42,\n",
              " 'verbose': 0,\n",
              " 'warm_start': False}"
            ]
          },
          "metadata": {},
          "execution_count": 316
        }
      ]
    },
    {
      "cell_type": "markdown",
      "source": [
        "#### Tuning the max_depth:"
      ],
      "metadata": {
        "id": "nwiqY8PH82ds"
      }
    },
    {
      "cell_type": "code",
      "source": [
        "# The 'max_depth'is 9\n",
        "rf_9 = RandomForestRegressor(max_depth = 9, random_state = 42)\n",
        "\n",
        "tree_reg_pipe_rf = make_pipeline(preprocessor, rf_9)\n",
        "tree_reg_pipe_rf.fit(X_train, y_train)\n",
        "train_pred_tree_rf = tree_reg_pipe_rf.predict(X_train)\n",
        "test_pred_tree_rf = tree_reg_pipe_rf.predict(X_test)\n",
        "\n",
        "print('Testing')\n",
        "evaluate_regression(y_test, test_pred_tree_rf)\n",
        "\n"
      ],
      "metadata": {
        "colab": {
          "base_uri": "https://localhost:8080/"
        },
        "id": "pSnRLgG00dGv",
        "outputId": "706d828c-6c5b-4671-b93e-f492fae67f29"
      },
      "execution_count": 317,
      "outputs": [
        {
          "output_type": "stream",
          "name": "stdout",
          "text": [
            "Testing\n",
            "scores: \n",
            "MAE: 735.75 \n",
            "MSE: 1,120,913.91 \n",
            "RMSE: 1,058.73 \n",
            "R2: 0.59\n"
          ]
        }
      ]
    },
    {
      "cell_type": "code",
      "source": [
        "print('Training')\n",
        "evaluate_regression(y_train, train_pred_tree_rf)"
      ],
      "metadata": {
        "colab": {
          "base_uri": "https://localhost:8080/"
        },
        "id": "Zuynx8ik7OEf",
        "outputId": "c3685200-a986-4465-f090-65de411b4783"
      },
      "execution_count": 318,
      "outputs": [
        {
          "output_type": "stream",
          "name": "stdout",
          "text": [
            "Training\n",
            "scores: \n",
            "MAE: 676.28 \n",
            "MSE: 913,873.98 \n",
            "RMSE: 955.97 \n",
            "R2: 0.69\n"
          ]
        }
      ]
    },
    {
      "cell_type": "markdown",
      "source": [
        "With max_depth= 9 we can see that in training datase R2 score is 59% that is better than default value 55%. But the score is not good, let's try tune the n_estimators. "
      ],
      "metadata": {
        "id": "Rtow7WSC7Aie"
      }
    },
    {
      "cell_type": "markdown",
      "source": [
        "#### Tuning the n_estimators (number of decision trees)"
      ],
      "metadata": {
        "id": "qODCTqZ34Yjq"
      }
    },
    {
      "cell_type": "code",
      "source": [
        "# by default n_estimators': 100\n",
        "# let's try another values:\n",
        "n_ests = [20, 50, 200, 250]\n",
        "scores2 = pd.DataFrame(index=n_ests, columns=['Test Score', 'Train Score'])\n",
        "for n in n_ests:\n",
        "  rf_9_tunned = RandomForestRegressor(max_depth=9, n_estimators=n)\n",
        "  tree_reg_pipe_rf = make_pipeline(preprocessor, rf_9_tunned)\n",
        "  tree_reg_pipe_rf.fit(X_train, y_train)\n",
        "  train_pred_tree_rf = tree_reg_pipe_rf.predict(X_train)\n",
        "  test_pred_tree_rf = tree_reg_pipe_rf.predict(X_test)\n",
        "  scores2.loc[n, 'Train Score'] = r2_score(y_train, train_pred_tree_rf)\n",
        "  scores2.loc[n, 'Test Score'] = r2_score(y_test, test_pred_tree_rf)\n"
      ],
      "metadata": {
        "id": "9WmGQVj69HT-"
      },
      "execution_count": 319,
      "outputs": []
    },
    {
      "cell_type": "code",
      "source": [
        "scores2.head()"
      ],
      "metadata": {
        "colab": {
          "base_uri": "https://localhost:8080/",
          "height": 175
        },
        "id": "EZdXTZdEBeQK",
        "outputId": "5a1aca17-edaf-4eec-be91-cd3e59cb6b05"
      },
      "execution_count": 320,
      "outputs": [
        {
          "output_type": "execute_result",
          "data": {
            "text/plain": [
              "    Test Score Train Score\n",
              "20    0.591374      0.6863\n",
              "50    0.592383    0.689975\n",
              "200    0.59238    0.690112\n",
              "250   0.592393    0.690366"
            ],
            "text/html": [
              "\n",
              "  <div id=\"df-fe6cb54a-038a-46c6-b85f-4006cffbc75b\">\n",
              "    <div class=\"colab-df-container\">\n",
              "      <div>\n",
              "<style scoped>\n",
              "    .dataframe tbody tr th:only-of-type {\n",
              "        vertical-align: middle;\n",
              "    }\n",
              "\n",
              "    .dataframe tbody tr th {\n",
              "        vertical-align: top;\n",
              "    }\n",
              "\n",
              "    .dataframe thead th {\n",
              "        text-align: right;\n",
              "    }\n",
              "</style>\n",
              "<table border=\"1\" class=\"dataframe\">\n",
              "  <thead>\n",
              "    <tr style=\"text-align: right;\">\n",
              "      <th></th>\n",
              "      <th>Test Score</th>\n",
              "      <th>Train Score</th>\n",
              "    </tr>\n",
              "  </thead>\n",
              "  <tbody>\n",
              "    <tr>\n",
              "      <th>20</th>\n",
              "      <td>0.591374</td>\n",
              "      <td>0.6863</td>\n",
              "    </tr>\n",
              "    <tr>\n",
              "      <th>50</th>\n",
              "      <td>0.592383</td>\n",
              "      <td>0.689975</td>\n",
              "    </tr>\n",
              "    <tr>\n",
              "      <th>200</th>\n",
              "      <td>0.59238</td>\n",
              "      <td>0.690112</td>\n",
              "    </tr>\n",
              "    <tr>\n",
              "      <th>250</th>\n",
              "      <td>0.592393</td>\n",
              "      <td>0.690366</td>\n",
              "    </tr>\n",
              "  </tbody>\n",
              "</table>\n",
              "</div>\n",
              "      <button class=\"colab-df-convert\" onclick=\"convertToInteractive('df-fe6cb54a-038a-46c6-b85f-4006cffbc75b')\"\n",
              "              title=\"Convert this dataframe to an interactive table.\"\n",
              "              style=\"display:none;\">\n",
              "        \n",
              "  <svg xmlns=\"http://www.w3.org/2000/svg\" height=\"24px\"viewBox=\"0 0 24 24\"\n",
              "       width=\"24px\">\n",
              "    <path d=\"M0 0h24v24H0V0z\" fill=\"none\"/>\n",
              "    <path d=\"M18.56 5.44l.94 2.06.94-2.06 2.06-.94-2.06-.94-.94-2.06-.94 2.06-2.06.94zm-11 1L8.5 8.5l.94-2.06 2.06-.94-2.06-.94L8.5 2.5l-.94 2.06-2.06.94zm10 10l.94 2.06.94-2.06 2.06-.94-2.06-.94-.94-2.06-.94 2.06-2.06.94z\"/><path d=\"M17.41 7.96l-1.37-1.37c-.4-.4-.92-.59-1.43-.59-.52 0-1.04.2-1.43.59L10.3 9.45l-7.72 7.72c-.78.78-.78 2.05 0 2.83L4 21.41c.39.39.9.59 1.41.59.51 0 1.02-.2 1.41-.59l7.78-7.78 2.81-2.81c.8-.78.8-2.07 0-2.86zM5.41 20L4 18.59l7.72-7.72 1.47 1.35L5.41 20z\"/>\n",
              "  </svg>\n",
              "      </button>\n",
              "      \n",
              "  <style>\n",
              "    .colab-df-container {\n",
              "      display:flex;\n",
              "      flex-wrap:wrap;\n",
              "      gap: 12px;\n",
              "    }\n",
              "\n",
              "    .colab-df-convert {\n",
              "      background-color: #E8F0FE;\n",
              "      border: none;\n",
              "      border-radius: 50%;\n",
              "      cursor: pointer;\n",
              "      display: none;\n",
              "      fill: #1967D2;\n",
              "      height: 32px;\n",
              "      padding: 0 0 0 0;\n",
              "      width: 32px;\n",
              "    }\n",
              "\n",
              "    .colab-df-convert:hover {\n",
              "      background-color: #E2EBFA;\n",
              "      box-shadow: 0px 1px 2px rgba(60, 64, 67, 0.3), 0px 1px 3px 1px rgba(60, 64, 67, 0.15);\n",
              "      fill: #174EA6;\n",
              "    }\n",
              "\n",
              "    [theme=dark] .colab-df-convert {\n",
              "      background-color: #3B4455;\n",
              "      fill: #D2E3FC;\n",
              "    }\n",
              "\n",
              "    [theme=dark] .colab-df-convert:hover {\n",
              "      background-color: #434B5C;\n",
              "      box-shadow: 0px 1px 3px 1px rgba(0, 0, 0, 0.15);\n",
              "      filter: drop-shadow(0px 1px 2px rgba(0, 0, 0, 0.3));\n",
              "      fill: #FFFFFF;\n",
              "    }\n",
              "  </style>\n",
              "\n",
              "      <script>\n",
              "        const buttonEl =\n",
              "          document.querySelector('#df-fe6cb54a-038a-46c6-b85f-4006cffbc75b button.colab-df-convert');\n",
              "        buttonEl.style.display =\n",
              "          google.colab.kernel.accessAllowed ? 'block' : 'none';\n",
              "\n",
              "        async function convertToInteractive(key) {\n",
              "          const element = document.querySelector('#df-fe6cb54a-038a-46c6-b85f-4006cffbc75b');\n",
              "          const dataTable =\n",
              "            await google.colab.kernel.invokeFunction('convertToInteractive',\n",
              "                                                     [key], {});\n",
              "          if (!dataTable) return;\n",
              "\n",
              "          const docLinkHtml = 'Like what you see? Visit the ' +\n",
              "            '<a target=\"_blank\" href=https://colab.research.google.com/notebooks/data_table.ipynb>data table notebook</a>'\n",
              "            + ' to learn more about interactive tables.';\n",
              "          element.innerHTML = '';\n",
              "          dataTable['output_type'] = 'display_data';\n",
              "          await google.colab.output.renderOutput(dataTable, element);\n",
              "          const docLink = document.createElement('div');\n",
              "          docLink.innerHTML = docLinkHtml;\n",
              "          element.appendChild(docLink);\n",
              "        }\n",
              "      </script>\n",
              "    </div>\n",
              "  </div>\n",
              "  "
            ]
          },
          "metadata": {},
          "execution_count": 320
        }
      ]
    },
    {
      "cell_type": "code",
      "source": [
        "plt.plot(scores2['Test Score'])\n",
        "plt.xticks(n_ests);\n"
      ],
      "metadata": {
        "colab": {
          "base_uri": "https://localhost:8080/",
          "height": 265
        },
        "id": "gZj521gxB7fd",
        "outputId": "96b680fd-4ae1-43dd-df0b-d8627e01026c"
      },
      "execution_count": 321,
      "outputs": [
        {
          "output_type": "display_data",
          "data": {
            "text/plain": [
              "<Figure size 432x288 with 1 Axes>"
            ],
            "image/png": "[encoded data removed]"
          },
          "metadata": {
            "needs_background": "light"
          }
        }
      ]
    },
    {
      "cell_type": "markdown",
      "source": [
        "We can see that we didn't improve the score of test dataset with tuning the n_estimators. It is 59%"
      ],
      "metadata": {
        "id": "ApM5EK3jwI-D"
      }
    },
    {
      "cell_type": "markdown",
      "source": [
        "# 3 -  Compare 2 different models on sales data set and determine which model to implement."
      ],
      "metadata": {
        "id": "zPzSPxHU-k6d"
      }
    },
    {
      "cell_type": "markdown",
      "source": [
        "## Compare the performance of models based on R2. \n",
        "With linear regression model the R2 score in training dataset was 56%, with decision tree model was 11% and with random forest tunned the score was 59%.\n",
        "\n",
        "These scores can be interpreted as saying that linear regression model can account for about 56% of the variation in y_test using the features in X_test and random forest model 59%.\n"
      ],
      "metadata": {
        "id": "zWE4qy8y_L7H"
      }
    },
    {
      "cell_type": "markdown",
      "source": [
        "## Compare the performance of 2 models based on MSE.\n",
        "\n",
        "A lower MSE is better as we want to reduce the size of errors, especially large errors!\n",
        "\n",
        "\n",
        "The mean of the target is 2095.231046 and if we check MSE in all model were: \n",
        "\n",
        "1 -linear regression was MSE: 1,198,492.82, \n",
        "\n",
        "2 - decision tree regressor was 2,347,939.96 \n",
        "\n",
        "\n",
        "3 - in random forest: 1,249,818.91 \n",
        "\n",
        "The MSE was lower with linear regression but was too far from the mean target and any model had a score higher than 60% I don't think this predictions models are good in this dataset. \n"
      ],
      "metadata": {
        "id": "A-t_7hQ3A4QA"
      }
    }
  ]
}